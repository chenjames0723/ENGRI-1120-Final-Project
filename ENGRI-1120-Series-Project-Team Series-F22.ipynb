{
 "cells": [
  {
   "cell_type": "markdown",
   "id": "23e6742b-9c1b-473a-af2e-40ba90ff883f",
   "metadata": {},
   "source": [
    "# ENGRI 1120: Series Cell-free Production and Recovery of the mRNA BNT-162b2 Vaccine"
   ]
  },
  {
   "cell_type": "markdown",
   "id": "dbfbf87e-4766-4f57-884f-4f57c390cd3e",
   "metadata": {},
   "source": [
    "#### Team Series: Brandon Jackson (bj273), Haelin Park (hp358), Quinn Baker (qab2), James Chen (jzc28)"
   ]
  },
  {
   "cell_type": "markdown",
   "id": "057a795d-822e-4bef-a871-840fa2a087c8",
   "metadata": {},
   "source": [
    "<img src=\"figs/final-system.png\" style=\"width:50%\">"
   ]
  },
  {
   "cell_type": "markdown",
   "id": "e2d1b90e-e590-4489-a136-16c74f81ccc5",
   "metadata": {},
   "source": [
    "## Introduction\n",
    "Olin engineers have been asked by Pfizer to design a manufacturing process to produce a covid vaccine. The specific vaccine is a Covid-19 BNT-162b2 mRNA vaccine and it will be synthesized using PURExprss and mRNA. The PURExpress will be used to express the mRNA before so it can be isolated as our product. The goal of this project is to create a production process that produces 99 percent pure mRNA at a rate of 0.1 𝞵mol/min. Ideally, the price will be as low as possible, so the system must be optimized. The uses of our product is in the creation of the Covid-19 vaccine that was mentioned earlier.\n",
    "\n",
    "We did this by using 10 reactor chips in a series, ten syringe pumps, 9 levels of 90 percent efficient separators, 3 exchangers, 2 syringe pumps. Each chip costs 100 dollars, each exchanger costs 75 dollars, each Syringe pump costs 1000 dollars, and each 90 percent efficient separators cost 20 dollars. In total, it is 3405 dollars. We will have two streams the first being the gene used for the mRNA and the sound has the PURExpress. Each stream will be put through a heat exchanger to ensure the correct temperature is used then each stream is fed into the parallel chip system. The resulting solution then passes through a mixer and separator units to filter out the unreacted material. This will give us our product."
   ]
  },
  {
   "cell_type": "markdown",
   "id": "76c3d9a2-9965-4c36-90bd-392230585eca",
   "metadata": {
    "tags": []
   },
   "source": [
    "## Materials and Methods\n",
    "* 10 chips - We reduced the gene flow rate and 9 chips limits to 0.099, so number of chips has to be greater than that\n",
    "* 3 exchangers - Purexpress at 37, Mrna at -25, Recycled \n",
    "* 2 pumps - One for gene, One for Purexpress\n",
    "* 90% efficient separators (9 levels)\n"
   ]
  },
  {
   "cell_type": "markdown",
   "id": "c992adca-0680-42cc-89d5-74b8d9c659b6",
   "metadata": {
    "tags": []
   },
   "source": [
    "### Project Setup"
   ]
  },
  {
   "cell_type": "code",
   "execution_count": 1,
   "id": "9087f9c8-fc35-4c16-9e4d-bd1ac8f71a2f",
   "metadata": {},
   "outputs": [
    {
     "name": "stderr",
     "output_type": "stream",
     "text": [
      "\u001b[32m\u001b[1m  Activating\u001b[22m\u001b[39m project at `C:\\Users\\James Chen\\Documents\\ENGRI 1120\\ENGRI-1120-IntroToChemE-Example-Notebooks\\project`\n",
      "\u001b[32m\u001b[1m  No Changes\u001b[22m\u001b[39m to `C:\\Users\\James Chen\\Documents\\ENGRI 1120\\ENGRI-1120-IntroToChemE-Example-Notebooks\\project\\Project.toml`\n",
      "\u001b[32m\u001b[1m  No Changes\u001b[22m\u001b[39m to `C:\\Users\\James Chen\\Documents\\ENGRI 1120\\ENGRI-1120-IntroToChemE-Example-Notebooks\\project\\Manifest.toml`\n"
     ]
    }
   ],
   "source": [
    "import Pkg; Pkg.activate(\".\"); Pkg.resolve(); Pkg.instantiate();"
   ]
  },
  {
   "cell_type": "code",
   "execution_count": 2,
   "id": "8b6f5e95-6b27-4294-82a1-0d36c8043946",
   "metadata": {},
   "outputs": [],
   "source": [
    "# load reqd packages and set paths -\n",
    "using JLD2\n",
    "using FileIO\n",
    "using PrettyTables\n",
    "using DataFrames\n",
    "using GLPK\n",
    "\n",
    "# setup paths -\n",
    "const _ROOT = pwd();\n",
    "const _PATH_TO_DATA = joinpath(_ROOT, \"data\");"
   ]
  },
  {
   "cell_type": "markdown",
   "id": "d92ba20b-7096-4cb5-9dcf-4375a8abc3b5",
   "metadata": {},
   "source": [
    "#### Load the project code library\n",
    "The call to the `include` function loads the `ENGRI-1120-Project-CodeLib.jl` library into the notebook; the library contains functions we can use during the project. In particular, it includes the function:\n",
    "\n",
    "* The `compute_optimal_extent(stoichiometric_matrix::Array{Float64,2}, default_bounds_array::Array{Float64,2},\n",
    "    species_bounds_array::Array{Float64,2}, objective_coefficient_array::Array{Float64,1}; min_flag::Bool = true) -> Tuple` function calls the [GLPK](https://www.gnu.org/software/glpk/) linear program solver. The `results` tuple contains several things, but the important ones are `calculated_flux_array`, `objective_value`, and the status/exit flags `status_flag` and `exit_flag` (which let us know if the solver successfully found a solution).\n",
    "* The `build(model::Type{MSULatticeModel}; ṅₒ::Float64, L::Int64, u::Float64, d::Float64) -> MSULatticeModel` function builds a [Binary tree](https://en.wikipedia.org/wiki/Binary_tree) of Magical Separation Units (MSUs). Arguments: $ṅₒ$ denotes the species mole flow rate into the separation system, $L$ denotes the number of layers of the tree, $u$ denotes the `up` factor (split for the `up` path), and $d$ denotes the `down` factor (the split for the `down` path). This function returns the `MSULatticeModel` model, which contains the column array `data` holding the species mole flow rate for each node in the tree. \n",
    "* The `build_nodes_dictionary(levels::Int64) -> Dict{Int64,Array{Int64,1}}` function constructs a dictionary of node indexes for each level of the tree; keys are the tree levels."
   ]
  },
  {
   "cell_type": "code",
   "execution_count": 3,
   "id": "643bb3f5-8a44-4d10-8aaf-bac7c94ec962",
   "metadata": {},
   "outputs": [],
   "source": [
    "include(\"ENGRI-1120-Project-CodeLib.jl\");"
   ]
  },
  {
   "cell_type": "code",
   "execution_count": 4,
   "id": "a3090808-15ee-44ba-ac55-2097a7a9f9c5",
   "metadata": {},
   "outputs": [
    {
     "name": "stderr",
     "output_type": "stream",
     "text": [
      "┌ Warning: the following fields are present in type DataFrame saved in the file but not present in the type the workspace:\n",
      "│ \n",
      "│ metadata\n",
      "│ colmetadata\n",
      "│ allnotemetadata,\n",
      "│ \n",
      "│ Data in these fields will not be accessible\n",
      "└ @ JLD2 C:\\Users\\James Chen\\.julia\\packages\\JLD2\\k9Gt0\\src\\data\\reconstructing_datatypes.jl:196\n"
     ]
    },
    {
     "data": {
      "text/plain": [
       "Dict{String, Any} with 7 entries:\n",
       "  \"stochiometric_matrix\" => [-1.0 0.0 … 0.0 -1.0; -1.0 0.0 … -1.0 0.0; … ; 1.0 …\n",
       "  \"list_of_reactions\"    => [\"TX_BNT_162b2_binding\", \"TX_BNT_162b2_open\", \"BNT_…\n",
       "  \"reaction_table\"       => \u001b[1m6×7 DataFrame\u001b[0m…\n",
       "  \"flux_bounds_array\"    => [-1000.0 1000.0; 0.0 1000.0; … ; 0.0 1000.0; 0.0 10…\n",
       "  \"mRNA_sequence\"        => ['C', 'U', 'C', 'U', 'U', 'A', 'U', 'U', 'U', 'G'  …\n",
       "  \"list_of_species\"      => [\"G_BNT_162b2\", \"T7RNAP\", \"M_atp_c\", \"M_utp_c\", \"M_…\n",
       "  \"gene_sequence\"        => ['G', 'A', 'G', 'A', 'A', 'T', 'A', 'A', 'A', 'C'  …"
      ]
     },
     "execution_count": 4,
     "metadata": {},
     "output_type": "execute_result"
    }
   ],
   "source": [
    "# load the model file -\n",
    "model = load(joinpath(_PATH_TO_DATA, \"ENGRI-1120-BNT162b2-Model.jld2\"))[\"model\"]"
   ]
  },
  {
   "cell_type": "code",
   "execution_count": 5,
   "id": "a5dcb1bf-32c2-449c-ae06-a55f44ec0994",
   "metadata": {},
   "outputs": [],
   "source": [
    "# get stuff from the model data structure -\n",
    "S = model[\"stochiometric_matrix\"]; # fix the spelling in the model file\n",
    "flux_bounds_array = model[\"flux_bounds_array\"];\n",
    "list_of_species = model[\"list_of_species\"];\n",
    "list_of_reactions = model[\"list_of_reactions\"];\n",
    "reaction_table = model[\"reaction_table\"];\n",
    "gene_sequence = model[\"gene_sequence\"];"
   ]
  },
  {
   "cell_type": "code",
   "execution_count": 6,
   "id": "55db9867-ef5f-415f-908a-4f8be8338f4b",
   "metadata": {},
   "outputs": [
    {
     "data": {
      "text/html": [
       "<div class=\"data-frame\"><p>6 rows × 7 columns (omitted printing of 5 columns)</p><table class=\"data-frame\"><thead><tr><th></th><th>id</th><th>forward</th></tr><tr><th></th><th title=\"String\">String</th><th title=\"String\">String</th></tr></thead><tbody><tr><th>1</th><td>TX_BNT_162b2_binding</td><td>G_BNT_162b2+T7RNAP</td></tr><tr><th>2</th><td>TX_BNT_162b2_open</td><td>G_BNT_162b2_T7RNAP_closed</td></tr><tr><th>3</th><td>BNT_162b2_transcription</td><td>G_BNT_162b2_T7RNAP_open+798*M_atp_c+1004*M_utp_c+1060*M_ctp_c+1312*M_gtp_c</td></tr><tr><th>4</th><td>mRNA_BNT_162b2_degradation</td><td>mRNA_BNT_162b2</td></tr><tr><th>5</th><td>RNAP_deactivation</td><td>T7RNAP</td></tr><tr><th>6</th><td>GENE_deactivation</td><td>G_BNT_162b2</td></tr></tbody></table></div>"
      ],
      "text/latex": [
       "\\begin{tabular}{r|ccc}\n",
       "\t& id & forward & \\\\\n",
       "\t\\hline\n",
       "\t& String & String & \\\\\n",
       "\t\\hline\n",
       "\t1 & TX\\_BNT\\_162b2\\_binding & G\\_BNT\\_162b2+T7RNAP & $\\dots$ \\\\\n",
       "\t2 & TX\\_BNT\\_162b2\\_open & G\\_BNT\\_162b2\\_T7RNAP\\_closed & $\\dots$ \\\\\n",
       "\t3 & BNT\\_162b2\\_transcription & G\\_BNT\\_162b2\\_T7RNAP\\_open+798*M\\_atp\\_c+1004*M\\_utp\\_c+1060*M\\_ctp\\_c+1312*M\\_gtp\\_c & $\\dots$ \\\\\n",
       "\t4 & mRNA\\_BNT\\_162b2\\_degradation & mRNA\\_BNT\\_162b2 & $\\dots$ \\\\\n",
       "\t5 & RNAP\\_deactivation & T7RNAP & $\\dots$ \\\\\n",
       "\t6 & GENE\\_deactivation & G\\_BNT\\_162b2 & $\\dots$ \\\\\n",
       "\\end{tabular}\n"
      ],
      "text/plain": [
       "\u001b[1m6×7 DataFrame\u001b[0m\n",
       "\u001b[1m Row \u001b[0m│\u001b[1m id                         \u001b[0m\u001b[1m forward                           \u001b[0m\u001b[1m reverse \u001b[0m ⋯\n",
       "\u001b[1m     \u001b[0m│\u001b[90m String                     \u001b[0m\u001b[90m String                            \u001b[0m\u001b[90m String  \u001b[0m ⋯\n",
       "─────┼──────────────────────────────────────────────────────────────────────────\n",
       "   1 │ TX_BNT_162b2_binding        G_BNT_162b2+T7RNAP                 G_BNT_16 ⋯\n",
       "   2 │ TX_BNT_162b2_open           G_BNT_162b2_T7RNAP_closed          G_BNT_16\n",
       "   3 │ BNT_162b2_transcription     G_BNT_162b2_T7RNAP_open+798*M_at…  mRNA_BNT\n",
       "   4 │ mRNA_BNT_162b2_degradation  mRNA_BNT_162b2                     798*M_am\n",
       "   5 │ RNAP_deactivation           T7RNAP                             T7RNAP_i ⋯\n",
       "   6 │ GENE_deactivation           G_BNT_162b2                        G_BNT_16\n",
       "\u001b[36m                                                               5 columns omitted\u001b[0m"
      ]
     },
     "execution_count": 6,
     "metadata": {},
     "output_type": "execute_result"
    }
   ],
   "source": [
    "reaction_table"
   ]
  },
  {
   "cell_type": "code",
   "execution_count": 7,
   "id": "117417d4-2690-4a3a-8be5-5404e313fc56",
   "metadata": {},
   "outputs": [],
   "source": [
    "# How many species and reactions?\n",
    "(ℳ, ℛ) = size(S);"
   ]
  },
  {
   "cell_type": "code",
   "execution_count": 8,
   "id": "8208533f-04f4-4039-8a7b-44be76fce2d0",
   "metadata": {
    "tags": []
   },
   "outputs": [
    {
     "name": "stdout",
     "output_type": "stream",
     "text": [
      "┌───────┬───────────────────────────┐\n",
      "│\u001b[1m Index \u001b[0m│\u001b[1m                   Species \u001b[0m│\n",
      "├───────┼───────────────────────────┤\n",
      "│     1 │               G_BNT_162b2 │\n",
      "│     2 │                    T7RNAP │\n",
      "│     3 │                   M_atp_c │\n",
      "│     4 │                   M_utp_c │\n",
      "│     5 │                   M_ctp_c │\n",
      "│     6 │                   M_gtp_c │\n",
      "│     7 │            mRNA_BNT_162b2 │\n",
      "│     8 │                   M_ppi_c │\n",
      "│     9 │                   M_amp_c │\n",
      "│    10 │                   M_ump_c │\n",
      "│    11 │                   M_cmp_c │\n",
      "│    12 │                   M_gmp_c │\n",
      "│    13 │           T7RNAP_inactive │\n",
      "│    14 │      G_BNT_162b2_inactive │\n",
      "│    15 │ G_BNT_162b2_T7RNAP_closed │\n",
      "│    16 │   G_BNT_162b2_T7RNAP_open │\n",
      "└───────┴───────────────────────────┘\n"
     ]
    }
   ],
   "source": [
    "# initialize -\n",
    "species_index_table_data = Array{Any,2}(undef, ℳ, 2);\n",
    "\n",
    "# build table -\n",
    "for i ∈ 1:ℳ\n",
    "    species_index_table_data[i,1] = i;\n",
    "    species_index_table_data[i,2] = list_of_species[i];\n",
    "end\n",
    "\n",
    "# setup header -\n",
    "species_index_header_table = ([\"Index\", \"Species\"]);\n",
    "\n",
    "# build table -\n",
    "pretty_table(species_index_table_data; header=species_index_header_table);"
   ]
  },
  {
   "cell_type": "markdown",
   "id": "8f4b9bca-9d21-4f12-88fc-9eec06661610",
   "metadata": {
    "tags": []
   },
   "source": [
    "#### Setup the constants, feed rates and compositions"
   ]
  },
  {
   "cell_type": "code",
   "execution_count": 142,
   "id": "edb099ea-ee49-4e00-ad7c-9a9b2458a706",
   "metadata": {},
   "outputs": [],
   "source": [
    "# how many chips in series?\n",
    "number_of_chips = 10;\n",
    "\n",
    "# what fraction of the mRNA degrades?\n",
    "δ = 0.10;\n",
    "\n",
    "# MSU split ratio -\n",
    "θ = 0.90;\n",
    "\n",
    "# Setup constants for transcription -\n",
    "L = length(gene_sequence);\n",
    "K = 0.116; # saturation constant units: μmol/L; Source: ACS Synth. Biol. 2018, 7, 8, 1844–1857 https://doi.org/10.1021/acssynbio.7b00465\n",
    "v̇ₜ = (90.0)*(60); # units: nt/s; Source: BIND: 111871\n",
    "u = 0.95; # u-factor; Source: ACS Synth. Biol. 2018, 7, 8, 1844–1857 https://doi.org/10.1021/acssynbio.7b00465\n",
    "\n",
    "# volume -\n",
    "V = 100.0*(1/1e6); # liquid reaction volume on each chip units: L\n",
    "\n",
    "# Stock solution: PURExpress -> fed into chips by pump 2 (stream 2)\n",
    "# PURExpress flows into the chip in stream 2\n",
    "T7RNAP = 100.0;          # concentration in PURExpress units: μmol/L\n",
    "M_atp_c = 100*(1e6/1e3); # concentration in PURExpress units: μmol/L\n",
    "M_utp_c = 100*(1e6/1e3); # concentration in PURExpress units: μmol/L\n",
    "M_ctp_c = 100*(1e6/1e3); # concentration in PURExpress units: μmol/L\n",
    "M_gtp_c = 100*(1e6/1e3); # concentration in PURExpress units: μmol/L\n",
    "\n",
    "# Stock solution: DNA -> feed into splitter by pump 1 and then into chip (always stream 1)\n",
    "G_BNT_162b2 = 100.0;     # gene concentration in stock solution units: μmol/L\n",
    "\n",
    "# Volumetric flow rates from the pump *into* the splitter unit or chip - our base case will 1 ml/min; thus, let's\n",
    "# scale by the number of chips\n",
    "Ḟ₁ = number_of_chips*10.0*(1/1e6); # volumetric flow rate of syringe pump 1 units: L/min\n",
    "Ḟ₂ = number_of_chips*60.0*(1/1e6); # volumetric flow rate of syringe pump 2 units: L/min\n",
    "\n",
    "# stuff for the tables -\n",
    "current_table_counter = 0; # do not change me"
   ]
  },
  {
   "cell_type": "markdown",
   "id": "d6eba82f-57dd-47ca-a04e-42ca3e2f5dff",
   "metadata": {
    "tags": []
   },
   "source": [
    "#### Specify the inputs streams"
   ]
  },
  {
   "cell_type": "markdown",
   "id": "779f9f8b-1a29-4fa6-8d65-6f0913563ced",
   "metadata": {},
   "source": [
    "##### a) Specify the composition of feed stream 1\n",
    "By default, this stream contains only the gene encoding the mRNA BNT-162b2 product. The mainstream is split into sub-streams that are fed into each chip."
   ]
  },
  {
   "cell_type": "code",
   "execution_count": 12,
   "id": "3f5f3c3d-f73f-4449-87a2-1c0b365a5539",
   "metadata": {},
   "outputs": [],
   "source": [
    "# setup feed compostions for feed stream 1 \n",
    "ṅ₁ = zeros(ℳ); # default is zero, correct specific values -\n",
    "ṅ₁[1] = G_BNT_162b2*Ḟ₁*(1/number_of_chips); # units: μmol/min"
   ]
  },
  {
   "cell_type": "markdown",
   "id": "bf0ded76-4123-4232-9324-6a3528923c74",
   "metadata": {},
   "source": [
    "##### b) Specify the composition of feed stream 2\n",
    "By default, feed stream 2 contains the [PURExpress](https://www.neb.com/products/e6800-purexpress-invitro-protein-synthesis-kit#Product%20Information), which has everything we need to make our mRNA product of interest _expect_ the linear DNA. "
   ]
  },
  {
   "cell_type": "code",
   "execution_count": 13,
   "id": "816f2506-48bd-4fae-9396-2e6ea91e085e",
   "metadata": {},
   "outputs": [],
   "source": [
    "# setup feed compostions for feed stream 2: this feed goes into chip 1\n",
    "ṅ₂ = zeros(ℳ); # default is zero, then correct specific values -\n",
    "ṅ₂[2] = T7RNAP*Ḟ₂;  # units: μmol/min\n",
    "ṅ₂[3] = M_atp_c*Ḟ₂; # units: μmol/min\n",
    "ṅ₂[4] = M_utp_c*Ḟ₂; # units: μmol/min\n",
    "ṅ₂[5] = M_ctp_c*Ḟ₂; # units: μmol/min\n",
    "ṅ₂[6] = M_gtp_c*Ḟ₂; # units: μmol/min"
   ]
  },
  {
   "cell_type": "markdown",
   "id": "eb2540d8-a0b2-467b-94ed-20df1bbc0e57",
   "metadata": {
    "tags": []
   },
   "source": [
    "### Flux balance analysis setup"
   ]
  },
  {
   "cell_type": "markdown",
   "id": "a7669082-24c8-4652-acab-31f08d82b207",
   "metadata": {},
   "source": [
    "#### Species bounds"
   ]
  },
  {
   "cell_type": "code",
   "execution_count": 14,
   "id": "954766fb-ec77-48c6-9ed1-3bf4361ef02a",
   "metadata": {},
   "outputs": [],
   "source": [
    "# species bounds array -\n",
    "species_bounds_array = [-(ṅ₁ .+ ṅ₂) 10000.0*ones(ℳ,1)];"
   ]
  },
  {
   "cell_type": "markdown",
   "id": "ed34a6d3-ff56-4651-81d5-5a57d581fa03",
   "metadata": {},
   "source": [
    "#### Reaction bounds"
   ]
  },
  {
   "cell_type": "code",
   "execution_count": 15,
   "id": "b8d99481-c895-48c7-901e-9857415df738",
   "metadata": {},
   "outputs": [],
   "source": [
    "# initialize -\n",
    "flux_bounds_array = zeros(ℛ,2);\n",
    "flux_bounds_array[:,2] .= 1000.0; # large default upper bound"
   ]
  },
  {
   "cell_type": "code",
   "execution_count": 59,
   "id": "818f4ec9-d726-4165-b2ec-0d813dbf2b87",
   "metadata": {
    "tags": []
   },
   "outputs": [
    {
     "name": "stdout",
     "output_type": "stream",
     "text": [
      "\u001b[1mTable 1: Reaction index-name mapping table.\u001b[0m\n",
      "┌───────┬────────────────────────────┬─────────────┬─────────────┐\n",
      "│\u001b[1m Index \u001b[0m│\u001b[1m                   Reaction \u001b[0m│\u001b[1m lower bound \u001b[0m│\u001b[1m upper bound \u001b[0m│\n",
      "│\u001b[90m       \u001b[0m│\u001b[90m                            \u001b[0m│\u001b[90m    μmol/min \u001b[0m│\u001b[90m    μmol/min \u001b[0m│\n",
      "├───────┼────────────────────────────┼─────────────┼─────────────┤\n",
      "│     1 │       TX_BNT_162b2_binding │         0.0 │      1000.0 │\n",
      "│     2 │          TX_BNT_162b2_open │         0.0 │      1000.0 │\n",
      "│     3 │    BNT_162b2_transcription │   0.0121574 │   0.0121574 │\n",
      "│     4 │ mRNA_BNT_162b2_degradation │  0.00121574 │      1000.0 │\n",
      "│     5 │          RNAP_deactivation │         0.0 │      1000.0 │\n",
      "│     6 │          GENE_deactivation │         0.0 │      1000.0 │\n",
      "└───────┴────────────────────────────┴─────────────┴─────────────┘\n"
     ]
    }
   ],
   "source": [
    "# initialize -\n",
    "reaction_index_table_data = Array{Any,2}(undef, ℛ, 4);\n",
    "\n",
    "# build table -\n",
    "for i ∈ 1:ℛ\n",
    "    reaction_index_table_data[i,1] = i;\n",
    "    reaction_index_table_data[i,2] = list_of_reactions[i];\n",
    "    reaction_index_table_data[i,3] = flux_bounds_array[i,1];\n",
    "    reaction_index_table_data[i,4] = flux_bounds_array[i,2];\n",
    "end\n",
    "\n",
    "# setup title string -\n",
    "reaction_table_title = \"Table $(current_table_counter+=1): Reaction index-name mapping table.\"\n",
    "\n",
    "# setup header -\n",
    "reaction_index_header_table = ([\"Index\", \"Reaction\", \"lower bound\", \"upper bound\"], [\"\", \"\", \"μmol/min\", \"μmol/min\"]);\n",
    "\n",
    "# build table -\n",
    "pretty_table(reaction_index_table_data, title=reaction_table_title; header=reaction_index_header_table);"
   ]
  },
  {
   "cell_type": "markdown",
   "id": "f966f46c-43ff-4476-ba47-341f0ebc3012",
   "metadata": {},
   "source": [
    "#### Objective coefficient array\n",
    "* The objective function we used was an open species mole balance based in a steady state system. The objective is to maximize BNT_162b2_transcription and output mRNA flow rate. "
   ]
  },
  {
   "cell_type": "code",
   "execution_count": 17,
   "id": "0bb000a0-1e21-4a67-ba7b-04e67221fbb3",
   "metadata": {},
   "outputs": [],
   "source": [
    "# setup the objective coefficient array -\n",
    "obj_vector = zeros(ℛ);\n",
    "obj_vector[3] = -1; # why negative?"
   ]
  },
  {
   "cell_type": "markdown",
   "id": "4faa535b-6df1-4931-b033-0d4e0a165d90",
   "metadata": {
    "tags": []
   },
   "source": [
    "## Results and Discussion "
   ]
  },
  {
   "cell_type": "markdown",
   "id": "d7d1ae72-a727-496a-a2c7-c54fd9c0f1b2",
   "metadata": {},
   "source": [
    "### Compute the optimal extent of reaction and exit stream for first chip"
   ]
  },
  {
   "cell_type": "code",
   "execution_count": 140,
   "id": "ed183ad9-ac61-443f-9c48-26a28da15af9",
   "metadata": {
    "tags": []
   },
   "outputs": [],
   "source": [
    "# initialize some space to store tmp soln -\n",
    "tmp_sim_storage_space = Dict{Int64,Tuple{Array{Float64,1},Array{Float64,1}}}();\n",
    "\n",
    "# compute -\n",
    "ṅ₃ = zeros(ℳ);\n",
    "for chip_index ∈ 1:number_of_chips\n",
    "    \n",
    "    if (chip_index == 1)\n",
    "        ṅ_chip = ṅ₂\n",
    "    else\n",
    "        ṅ_chip = ṅ₃\n",
    "    end\n",
    "        \n",
    "    # update the bounds model -\n",
    "    F̂₁ = ((chip_index/number_of_chips)*Ḟ₁)/(Ḟ₂+(chip_index/number_of_chips)*Ḟ₁)\n",
    "    F̂₂ = Ḟ₂/(Ḟ₂+(chip_index/number_of_chips)*Ḟ₁);\n",
    "    \n",
    "    # Estimate the RNAP and GENE concentration -\n",
    "    Rₜ = T7RNAP*F̂₂;                          # effective RNAP concentratation on the chip for the bounds units: μmol/L\n",
    "    GENE = G_BNT_162b2*F̂₁ + G_BNT_162b2*F̂₂  # effective GENE concentratation on the chip for the bounds units: μmol/L\n",
    "    flux_bounds_array[3,:] .= Rₜ*(v̇ₜ/L)*u*(GENE/(K+GENE))*V; # equality constraint\n",
    "\n",
    "    # Setup bound for degradation (lower bound)\n",
    "    flux_bounds_array[4,1] = δ*flux_bounds_array[3,1];\n",
    "    \n",
    "    # compute the optimal flux, and then estimate the output on the chip\n",
    "    result = compute_optimal_extent(S, flux_bounds_array, species_bounds_array, obj_vector);\n",
    "    ϵ̇ = result.calculated_flux_array;\n",
    "    ṅ₃ = (ṅ₁ + ṅ_chip) + S*ϵ̇;   # compute the output from the chip -\n",
    "    \n",
    "    # now, the outlet from chip i-1 is the input to chip 1 (in stream 2), but stream 1 stays the same\n",
    "    species_bounds_array = [-(ṅ₁ .+ ṅ_chip) 10000.0*ones(ℳ,1)];\n",
    "    \n",
    "    # grab -\n",
    "    tmp_sim_storage_space[chip_index] = (ṅ₃,ϵ̇);\n",
    "end"
   ]
  },
  {
   "cell_type": "code",
   "execution_count": 141,
   "id": "aae47456-162f-462b-b7ec-3f264789c815",
   "metadata": {
    "tags": []
   },
   "outputs": [
    {
     "name": "stdout",
     "output_type": "stream",
     "text": [
      "\u001b[1mTable 1: Chip species mole flow rates table\u001b[0m\n",
      "┌───────────────────────────┬─────────┬──────────┬──────────┬──────────┬──────────┬──────────┬──────────┬──────────┬──────────┬──────────┬──────────┐\n",
      "│\u001b[1m                   Species \u001b[0m│\u001b[1m index i \u001b[0m│\u001b[1m   Chip 1 \u001b[0m│\u001b[1m   Chip 2 \u001b[0m│\u001b[1m   Chip 3 \u001b[0m│\u001b[1m   Chip 4 \u001b[0m│\u001b[1m   Chip 5 \u001b[0m│\u001b[1m   Chip 6 \u001b[0m│\u001b[1m   Chip 7 \u001b[0m│\u001b[1m   Chip 8 \u001b[0m│\u001b[1m   Chip 9 \u001b[0m│\u001b[1m  Chip 10 \u001b[0m│\n",
      "│\u001b[90m                           \u001b[0m│\u001b[90m         \u001b[0m│\u001b[90m μmol/min \u001b[0m│\u001b[90m μmol/min \u001b[0m│\u001b[90m μmol/min \u001b[0m│\u001b[90m μmol/min \u001b[0m│\u001b[90m μmol/min \u001b[0m│\u001b[90m μmol/min \u001b[0m│\u001b[90m μmol/min \u001b[0m│\u001b[90m μmol/min \u001b[0m│\u001b[90m μmol/min \u001b[0m│\u001b[90m μmol/min \u001b[0m│\n",
      "├───────────────────────────┼─────────┼──────────┼──────────┼──────────┼──────────┼──────────┼──────────┼──────────┼──────────┼──────────┼──────────┤\n",
      "│               G_BNT_162b2 │       1 │      0.1 │      0.2 │      0.3 │      0.4 │      0.5 │      0.6 │      0.7 │      0.8 │      0.9 │      1.0 │\n",
      "│                    T7RNAP │       2 │      6.0 │      6.0 │      6.0 │      6.0 │      6.0 │      6.0 │      6.0 │      6.0 │      6.0 │      6.0 │\n",
      "│                   M_atp_c │       3 │  5990.37 │  5980.89 │  5971.56 │  5962.38 │  5953.34 │  5944.44 │  5935.66 │  5927.02 │  5918.51 │  5910.11 │\n",
      "│                   M_utp_c │       4 │  5987.88 │  5975.95 │  5964.22 │  5952.67 │  5941.29 │  5930.09 │  5919.06 │  5908.18 │  5897.47 │  5886.91 │\n",
      "│                   M_ctp_c │       5 │   5987.2 │  5974.61 │  5962.22 │  5950.03 │  5938.02 │  5926.19 │  5914.54 │  5903.06 │  5891.75 │   5880.6 │\n",
      "│                   M_gtp_c │       6 │  5984.16 │  5968.58 │  5953.24 │  5938.15 │  5923.28 │  5908.65 │  5894.22 │  5880.02 │  5866.01 │  5852.21 │\n",
      "│            mRNA_BNT_162b2 │       7 │    0.011 │    0.022 │    0.032 │    0.042 │    0.053 │    0.063 │    0.073 │    0.082 │    0.092 │    0.101 │\n",
      "│                   M_ppi_c │       8 │   50.388 │   99.964 │  148.753 │   196.78 │  244.067 │  290.638 │  336.515 │  381.716 │  426.262 │  470.172 │\n",
      "│                   M_amp_c │       9 │    0.963 │    1.911 │    2.844 │    3.762 │    4.666 │    5.557 │    6.434 │    7.298 │    8.149 │    8.989 │\n",
      "│                   M_ump_c │      10 │    1.212 │    2.405 │    3.578 │    4.733 │    5.871 │    6.991 │    8.094 │    9.182 │   10.253 │   11.309 │\n",
      "│                   M_cmp_c │      11 │     1.28 │    2.539 │    3.778 │    4.997 │    6.198 │    7.381 │    8.546 │    9.694 │   10.825 │    11.94 │\n",
      "│                   M_gmp_c │      12 │    1.584 │    3.142 │    4.676 │    6.185 │    7.672 │    9.136 │   10.578 │   11.998 │   13.399 │   14.779 │\n",
      "│           T7RNAP_inactive │      13 │      0.0 │      0.0 │      0.0 │      0.0 │      0.0 │      0.0 │      0.0 │      0.0 │      0.0 │      0.0 │\n",
      "│      G_BNT_162b2_inactive │      14 │      0.0 │      0.0 │      0.0 │      0.0 │      0.0 │      0.0 │      0.0 │      0.0 │      0.0 │      0.0 │\n",
      "│ G_BNT_162b2_T7RNAP_closed │      15 │      0.0 │      0.0 │      0.0 │      0.0 │      0.0 │      0.0 │      0.0 │      0.0 │      0.0 │      0.0 │\n",
      "│   G_BNT_162b2_T7RNAP_open │      16 │      0.0 │      0.0 │      0.0 │      0.0 │      0.0 │      0.0 │      0.0 │      0.0 │      0.0 │      0.0 │\n",
      "└───────────────────────────┴─────────┴──────────┴──────────┴──────────┴──────────┴──────────┴──────────┴──────────┴──────────┴──────────┴──────────┘\n"
     ]
    }
   ],
   "source": [
    "system_flow_table_data = Array{Any,2}(undef, ℳ, number_of_chips+2);\n",
    "\n",
    "# populate the table -\n",
    "for i ∈ 1:ℳ\n",
    "    system_flow_table_data[i,1] = list_of_species[i];\n",
    "    system_flow_table_data[i,2] = i;\n",
    "    \n",
    "    for chip_index ∈ 1:number_of_chips\n",
    "        ṅ₃ = tmp_sim_storage_space[chip_index][1];\n",
    "        system_flow_table_data[i,chip_index+2] = round(ṅ₃[i], digits=3);\n",
    "    end\n",
    "end\n",
    "\n",
    "# build header -\n",
    "# names \n",
    "flow_table_name_row = Array{String,1}()\n",
    "push!(flow_table_name_row, \"Species\");\n",
    "push!(flow_table_name_row, \"index i\")\n",
    "for chip_index ∈ 1:number_of_chips\n",
    "    push!(flow_table_name_row, \"Chip $(chip_index)\")\n",
    "end\n",
    "\n",
    "# units\n",
    "flow_table_units_row = Array{String,1}()\n",
    "push!(flow_table_units_row, \"\");\n",
    "push!(flow_table_units_row, \"\")\n",
    "for chip_index ∈ 1:number_of_chips\n",
    "    push!(flow_table_units_row, \"μmol/min\")\n",
    "end\n",
    "\n",
    "\n",
    "# title -\n",
    "flow_table_title = \"Table $(current_table_counter+=1): Chip species mole flow rates table\"\n",
    "\n",
    "# header -\n",
    "flux_table_header = (flow_table_name_row, flow_table_units_row)\n",
    "\n",
    "# show -\n",
    "pretty_table(system_flow_table_data, title=flow_table_title; header=flux_table_header)"
   ]
  },
  {
   "cell_type": "code",
   "execution_count": 80,
   "id": "a2addf2a-2032-4526-9608-b5259b6d7646",
   "metadata": {},
   "outputs": [
    {
     "data": {
      "text/plain": [
       "16×12 Matrix{Any}:\n",
       " \"G_BNT_162b2\"                 1     0.1    …     0.8       0.9       1.0\n",
       " \"T7RNAP\"                      2     6.0          6.0       6.0       6.0\n",
       " \"M_atp_c\"                     3  5990.22      5922.0    5912.29   5902.6\n",
       " \"M_utp_c\"                     4  5987.69      5901.86   5889.65   5877.45\n",
       " \"M_ctp_c\"                     5  5987.0       5896.39   5883.5    5870.61\n",
       " \"M_gtp_c\"                     6  5983.91   …  5871.76   5855.8    5839.85\n",
       " \"mRNA_BNT_162b2\"              7     0.011        0.088     0.099     0.11\n",
       " \"M_ppi_c\"                     8    51.177      407.992   458.764   509.485\n",
       " \"M_amp_c\"                     9     0.978        7.8       8.771     9.741\n",
       " \"M_ump_c\"                    10     1.231        9.814    11.035    12.255\n",
       " \"M_cmp_c\"                    11     1.3    …    10.361    11.65     12.939\n",
       " \"M_gmp_c\"                    12     1.609       12.824    14.42     16.014\n",
       " \"T7RNAP_inactive\"            13     0.0          0.0       0.0       0.0\n",
       " \"G_BNT_162b2_inactive\"       14     0.0          0.0       0.0       0.0\n",
       " \"G_BNT_162b2_T7RNAP_closed\"  15     0.0          0.0       0.0       0.0\n",
       " \"G_BNT_162b2_T7RNAP_open\"    16     0.0    …     0.0       0.0       0.0"
      ]
     },
     "execution_count": 80,
     "metadata": {},
     "output_type": "execute_result"
    }
   ],
   "source": [
    "# this will print the last few chips (in case the table formatting gets nutty)\n",
    "system_flow_table_data"
   ]
  },
  {
   "cell_type": "markdown",
   "id": "e87e7984-92b8-426d-a0b0-56126f75bc1c",
   "metadata": {},
   "source": [
    "### Design a downstream seperation using Magical Seperator Units (MSU)"
   ]
  },
  {
   "cell_type": "code",
   "execution_count": 136,
   "id": "182cd067-ea09-464b-8aed-2f560622864a",
   "metadata": {},
   "outputs": [],
   "source": [
    "# default -\n",
    "ṅ₃ = tmp_sim_storage_space[number_of_chips][1]\n",
    "\n",
    "# build a downstream seperation process with this number of levels:\n",
    "number_of_levels = 9; # includes zero"
   ]
  },
  {
   "cell_type": "code",
   "execution_count": 137,
   "id": "f5456b44-0f35-4d9f-b0df-85afc56ecc74",
   "metadata": {
    "tags": []
   },
   "outputs": [
    {
     "name": "stdout",
     "output_type": "stream",
     "text": [
      "\u001b[1mTable 1: Magical Seperator Unit (MSU) flow table; N0 denotes the feed while N⋆ denotes the leaves of the tree.\u001b[0m\n",
      "┌───────────────────────────┬─────────┬──────────┬────────────┬─────────────┬─────────────┬─────────────┬─────────────┬────────────┬────────────┬────────────┬────────────┐\n",
      "│\u001b[1m                   Species \u001b[0m│\u001b[1m index i \u001b[0m│\u001b[1m       N0 \u001b[0m│\u001b[1m        N37 \u001b[0m│\u001b[1m         N38 \u001b[0m│\u001b[1m         N39 \u001b[0m│\u001b[1m         N40 \u001b[0m│\u001b[1m         N41 \u001b[0m│\u001b[1m        N42 \u001b[0m│\u001b[1m        N43 \u001b[0m│\u001b[1m        N44 \u001b[0m│\u001b[1m        N45 \u001b[0m│\n",
      "│\u001b[90m                           \u001b[0m│\u001b[90m         \u001b[0m│\u001b[90m μmol/min \u001b[0m│\u001b[90m   μmol/min \u001b[0m│\u001b[90m    μmol/min \u001b[0m│\u001b[90m    μmol/min \u001b[0m│\u001b[90m    μmol/min \u001b[0m│\u001b[90m    μmol/min \u001b[0m│\u001b[90m   μmol/min \u001b[0m│\u001b[90m   μmol/min \u001b[0m│\u001b[90m   μmol/min \u001b[0m│\u001b[90m   μmol/min \u001b[0m│\n",
      "├───────────────────────────┼─────────┼──────────┼────────────┼─────────────┼─────────────┼─────────────┼─────────────┼────────────┼────────────┼────────────┼────────────┤\n",
      "│               G_BNT_162b2 │       1 │      1.0 │     1.0e-8 │      9.0e-8 │      8.1e-7 │     7.29e-6 │    6.561e-5 │ 0.00059049 │ 0.00531441 │  0.0478297 │   0.430467 │\n",
      "│                    T7RNAP │       2 │      6.0 │     6.0e-8 │      5.4e-7 │     4.86e-6 │    4.374e-5 │  0.00039366 │ 0.00354294 │  0.0318865 │   0.286978 │     2.5828 │\n",
      "│                   M_atp_c │       3 │  5910.11 │ 5.91011e-5 │  0.00053191 │  0.00478719 │   0.0430847 │    0.387762 │    3.48986 │    31.4088 │    282.679 │    2544.11 │\n",
      "│                   M_utp_c │       4 │  5886.91 │ 5.88691e-5 │ 0.000529822 │  0.00476839 │   0.0429155 │     0.38624 │    3.47616 │    31.2854 │    281.569 │    2534.12 │\n",
      "│                   M_ctp_c │       5 │   5880.6 │  5.8806e-5 │ 0.000529254 │  0.00476328 │   0.0428696 │    0.385826 │    3.47243 │    31.2519 │    281.267 │     2531.4 │\n",
      "│                   M_gtp_c │       6 │  5852.21 │ 5.85221e-5 │ 0.000526699 │  0.00474029 │   0.0426626 │    0.383964 │    3.45567 │    31.1011 │    279.909 │    2519.19 │\n",
      "│            mRNA_BNT_162b2 │       7 │ 0.101379 │  0.0436402 │  0.00484892 │ 0.000538768 │  5.98632e-5 │  6.65146e-6 │ 7.39051e-7 │ 8.21168e-8 │ 9.12409e-9 │ 1.01379e-9 │\n",
      "│                   M_ppi_c │       8 │  470.172 │ 4.70172e-6 │  4.23155e-5 │  0.00038084 │  0.00342756 │    0.030848 │   0.277632 │    2.49869 │    22.4882 │    202.394 │\n",
      "│                   M_amp_c │       9 │  8.98892 │ 8.98892e-8 │  8.09003e-7 │  7.28102e-6 │  6.55292e-5 │ 0.000589763 │ 0.00530787 │  0.0477708 │   0.429937 │    3.86943 │\n",
      "│                   M_ump_c │      10 │  11.3094 │ 1.13094e-7 │  1.01784e-6 │  9.16059e-6 │  8.24453e-5 │ 0.000742007 │ 0.00667807 │  0.0601026 │   0.540923 │    4.86831 │\n",
      "│                   M_cmp_c │      11 │  11.9402 │ 1.19402e-7 │  1.07462e-6 │  9.67154e-6 │  8.70438e-5 │ 0.000783394 │ 0.00705055 │  0.0634549 │   0.571094 │    5.13985 │\n",
      "│                   M_gmp_c │      12 │  14.7788 │ 1.47788e-7 │  1.33009e-6 │  1.19708e-5 │ 0.000107737 │ 0.000969635 │ 0.00872672 │  0.0785405 │   0.706864 │    6.36178 │\n",
      "│           T7RNAP_inactive │      13 │      0.0 │        0.0 │         0.0 │         0.0 │         0.0 │         0.0 │        0.0 │        0.0 │        0.0 │        0.0 │\n",
      "│      G_BNT_162b2_inactive │      14 │      0.0 │        0.0 │         0.0 │         0.0 │         0.0 │         0.0 │        0.0 │        0.0 │        0.0 │        0.0 │\n",
      "│ G_BNT_162b2_T7RNAP_closed │      15 │      0.0 │        0.0 │         0.0 │         0.0 │         0.0 │         0.0 │        0.0 │        0.0 │        0.0 │        0.0 │\n",
      "│   G_BNT_162b2_T7RNAP_open │      16 │      0.0 │        0.0 │         0.0 │         0.0 │         0.0 │         0.0 │        0.0 │        0.0 │        0.0 │        0.0 │\n",
      "└───────────────────────────┴─────────┴──────────┴────────────┴─────────────┴─────────────┴─────────────┴─────────────┴────────────┴────────────┴────────────┴────────────┘\n"
     ]
    }
   ],
   "source": [
    "# initialize -\n",
    "tmp_storage_dict = Dict{Int64, MSULatticeModel}();\n",
    "\n",
    "# is_product_vector -\n",
    "is_product_vector = zeros(ℳ);\n",
    "is_product_vector[7] = 1;\n",
    "\n",
    "# compute the composition array -\n",
    "for i ∈ 1:ℳ\n",
    "\n",
    "    if (is_product_vector[i] == 1)\n",
    "        msu_lattice_model = build(MSULatticeModel; ṅₒ = ṅ₃[i], L = number_of_levels , u = θ, d = (1 - θ));\n",
    "    else\n",
    "        msu_lattice_model = build(MSULatticeModel; ṅₒ = ṅ₃[i], L = number_of_levels , u = (1 - θ), d = θ);\n",
    "    end\n",
    "    \n",
    "    # grab -\n",
    "    tmp_storage_dict[i] = msu_lattice_model;\n",
    "end\n",
    "\n",
    "# grab the leaves -\n",
    "nodes_dict = build_nodes_dictionary(number_of_levels);\n",
    "children_dict = build_children_dictionary(nodes_dict);\n",
    "tree_leaves = nodes_dict[number_of_levels-1];\n",
    "\n",
    "# build a composition array -\n",
    "number_of_nodes = length(tree_leaves);\n",
    "composition_array = Array{Float64,2}(undef, number_of_nodes, ℳ);\n",
    "for i ∈ 1:ℳ\n",
    "    data = tmp_storage_dict[i].data;\n",
    "    for j ∈ 1:number_of_nodes\n",
    "        composition_array[j,i] = data[tree_leaves[j]]\n",
    "    end\n",
    "end\n",
    "\n",
    "# make a pretty table and show the leaves of the tree -\n",
    "\n",
    "# initialize -\n",
    "sep_tree_flow_table_data = Array{Any,2}(undef, ℳ, length(tree_leaves) + 3)\n",
    "for i ∈ 1:ℳ\n",
    "    sep_tree_flow_table_data[i,1] = list_of_species[i];\n",
    "    sep_tree_flow_table_data[i,2] = i;\n",
    "    sep_tree_flow_table_data[i,3] = ṅ₃[i] # put node 0 in table -\n",
    "        \n",
    "    for j ∈ 1:length(tree_leaves)\n",
    "        sep_tree_flow_table_data[i,3+j] = composition_array[j,i]\n",
    "    end\n",
    "end\n",
    "\n",
    "# labels row -\n",
    "label_row = Array{String,1}();\n",
    "push!(label_row,\"Species\");\n",
    "push!(label_row,\"index i\")\n",
    "push!(label_row,\"N0\")\n",
    "for j ∈ 1:length(tree_leaves)\n",
    "    push!(label_row, \"N$(tree_leaves[j])\");\n",
    "end\n",
    "\n",
    "# units row -\n",
    "units_row = Array{String,1}();\n",
    "push!(units_row, \"\");\n",
    "push!(units_row, \"\");\n",
    "for j ∈ 1:length(tree_leaves)+1\n",
    "    push!(units_row, \"μmol/min\");\n",
    "end\n",
    "\n",
    "# header -\n",
    "sep_tree_flow_table_header = (label_row, units_row);\n",
    "\n",
    "# set title -\n",
    "title = \"Table $(current_table_counter+=1): Magical Seperator Unit (MSU) flow table; N0 denotes the feed while N⋆ denotes the leaves of the tree.\"\n",
    "\n",
    "# show -\n",
    "pretty_table(sep_tree_flow_table_data, title=title; header=sep_tree_flow_table_header)"
   ]
  },
  {
   "cell_type": "code",
   "execution_count": 138,
   "id": "3a8b3f45-6f00-4201-9418-407810432f4c",
   "metadata": {
    "tags": []
   },
   "outputs": [
    {
     "name": "stdout",
     "output_type": "stream",
     "text": [
      "\u001b[1mTable 2: Magical Seperator Unit (MSU) composition table.\u001b[0m\n",
      "┌───────────────────────────┬─────────┬───────────┬───────────┬───────────┬───────────┬───────────┬───────────┬───────────┬───────────┬───────────┬───────────┐\n",
      "│\u001b[1m                   Species \u001b[0m│\u001b[1m index i \u001b[0m│\u001b[1m        N0 \u001b[0m│\u001b[1m       N37 \u001b[0m│\u001b[1m       N38 \u001b[0m│\u001b[1m       N39 \u001b[0m│\u001b[1m       N40 \u001b[0m│\u001b[1m       N41 \u001b[0m│\u001b[1m       N42 \u001b[0m│\u001b[1m       N43 \u001b[0m│\u001b[1m       N44 \u001b[0m│\u001b[1m       N45 \u001b[0m│\n",
      "│\u001b[90m                           \u001b[0m│\u001b[90m         \u001b[0m│\u001b[90m mole frac \u001b[0m│\u001b[90m mole frac \u001b[0m│\u001b[90m mole frac \u001b[0m│\u001b[90m mole frac \u001b[0m│\u001b[90m mole frac \u001b[0m│\u001b[90m mole frac \u001b[0m│\u001b[90m mole frac \u001b[0m│\u001b[90m mole frac \u001b[0m│\u001b[90m mole frac \u001b[0m│\u001b[90m mole frac \u001b[0m│\n",
      "├───────────────────────────┼─────────┼───────────┼───────────┼───────────┼───────────┼───────────┼───────────┼───────────┼───────────┼───────────┼───────────┤\n",
      "│               G_BNT_162b2 │       1 │       0.0 │       0.0 │       0.0 │       0.0 │       0.0 │       0.0 │       0.0 │       0.0 │       0.0 │       0.0 │\n",
      "│                    T7RNAP │       2 │    0.0002 │       0.0 │    0.0001 │    0.0002 │    0.0002 │    0.0002 │    0.0002 │    0.0002 │    0.0002 │    0.0002 │\n",
      "│                   M_atp_c │       3 │    0.2457 │    0.0013 │    0.0758 │    0.2391 │    0.2456 │    0.2457 │    0.2457 │    0.2457 │    0.2457 │    0.2457 │\n",
      "│                   M_utp_c │       4 │    0.2447 │    0.0013 │    0.0755 │    0.2382 │    0.2447 │    0.2447 │    0.2447 │    0.2447 │    0.2447 │    0.2447 │\n",
      "│                   M_ctp_c │       5 │    0.2445 │    0.0013 │    0.0755 │    0.2379 │    0.2444 │    0.2445 │    0.2445 │    0.2445 │    0.2445 │    0.2445 │\n",
      "│                   M_gtp_c │       6 │    0.2433 │    0.0013 │    0.0751 │    0.2367 │    0.2432 │    0.2433 │    0.2433 │    0.2433 │    0.2433 │    0.2433 │\n",
      "│            mRNA_BNT_162b2 │       7 │       0.0 │    0.9945 │    0.6913 │    0.0269 │    0.0003 │       0.0 │       0.0 │       0.0 │       0.0 │       0.0 │\n",
      "│                   M_ppi_c │       8 │    0.0195 │    0.0001 │     0.006 │     0.019 │    0.0195 │    0.0195 │    0.0195 │    0.0195 │    0.0195 │    0.0195 │\n",
      "│                   M_amp_c │       9 │    0.0004 │       0.0 │    0.0001 │    0.0004 │    0.0004 │    0.0004 │    0.0004 │    0.0004 │    0.0004 │    0.0004 │\n",
      "│                   M_ump_c │      10 │    0.0005 │       0.0 │    0.0001 │    0.0005 │    0.0005 │    0.0005 │    0.0005 │    0.0005 │    0.0005 │    0.0005 │\n",
      "│                   M_cmp_c │      11 │    0.0005 │       0.0 │    0.0002 │    0.0005 │    0.0005 │    0.0005 │    0.0005 │    0.0005 │    0.0005 │    0.0005 │\n",
      "│                   M_gmp_c │      12 │    0.0006 │       0.0 │    0.0002 │    0.0006 │    0.0006 │    0.0006 │    0.0006 │    0.0006 │    0.0006 │    0.0006 │\n",
      "│           T7RNAP_inactive │      13 │       0.0 │       0.0 │       0.0 │       0.0 │       0.0 │       0.0 │       0.0 │       0.0 │       0.0 │       0.0 │\n",
      "│      G_BNT_162b2_inactive │      14 │       0.0 │       0.0 │       0.0 │       0.0 │       0.0 │       0.0 │       0.0 │       0.0 │       0.0 │       0.0 │\n",
      "│ G_BNT_162b2_T7RNAP_closed │      15 │       0.0 │       0.0 │       0.0 │       0.0 │       0.0 │       0.0 │       0.0 │       0.0 │       0.0 │       0.0 │\n",
      "│   G_BNT_162b2_T7RNAP_open │      16 │       0.0 │       0.0 │       0.0 │       0.0 │       0.0 │       0.0 │       0.0 │       0.0 │       0.0 │       0.0 │\n",
      "└───────────────────────────┴─────────┴───────────┴───────────┴───────────┴───────────┴───────────┴───────────┴───────────┴───────────┴───────────┴───────────┘\n"
     ]
    }
   ],
   "source": [
    "# build mol frac composition table -\n",
    "\n",
    "# construct mol frac array -\n",
    "mol_frac_array = Array{Float64,2}(undef, ℳ, length(tree_leaves)+1);\n",
    "\n",
    "# node 0 -\n",
    "ṅ₃_total = sum(ṅ₃);\n",
    "for i ∈ 1:ℳ\n",
    "    mol_frac_array[i,1] = ṅ₃[i]*(1/ṅ₃_total);    \n",
    "end\n",
    "\n",
    "# get the sums along rows -\n",
    "ṅ_total = sum(composition_array,dims = 2);\n",
    "for node ∈ 1:length(tree_leaves)\n",
    "    for i ∈ 1:ℳ\n",
    "        mol_frac_array[i,node+1] = composition_array[node,i]*(1/ṅ_total[node]);\n",
    "    end\n",
    "end\n",
    "\n",
    "# initialize -\n",
    "sep_tree_mol_frac_table_data = Array{Any,2}(undef, ℳ, length(tree_leaves) + 3)\n",
    "for i ∈ 1:ℳ\n",
    "    sep_tree_mol_frac_table_data[i,1] = list_of_species[i];\n",
    "    sep_tree_mol_frac_table_data[i,2] = i;\n",
    "    sep_tree_mol_frac_table_data[i,3] = round(mol_frac_array[i,1], digits=4) # put node 0 in table -\n",
    "        \n",
    "    for j ∈ 1:length(tree_leaves)\n",
    "        sep_tree_mol_frac_table_data[i, 3+j] = round(mol_frac_array[i,j+1], digits=4)\n",
    "    end\n",
    "end\n",
    "\n",
    "# labels row -\n",
    "label_mft_row = Array{String,1}();\n",
    "push!(label_mft_row,\"Species\");\n",
    "push!(label_mft_row,\"index i\")\n",
    "push!(label_mft_row,\"N0\")\n",
    "for j ∈ 1:length(tree_leaves)\n",
    "    push!(label_mft_row, \"N$(tree_leaves[j])\");\n",
    "end\n",
    "\n",
    "# units row -\n",
    "units_mft_row = Array{String,1}();\n",
    "push!(units_mft_row, \"\");\n",
    "push!(units_mft_row, \"\");\n",
    "for j ∈ 1:length(tree_leaves)+1\n",
    "    push!(units_mft_row, \"mole frac\");\n",
    "end\n",
    "\n",
    "# header -\n",
    "sep_tree_mft_table_header = (label_mft_row, units_mft_row);\n",
    "\n",
    "# set title -\n",
    "title_mft = \"Table $(current_table_counter+=1): Magical Seperator Unit (MSU) composition table.\"\n",
    "\n",
    "# show -\n",
    "pretty_table(sep_tree_mol_frac_table_data, title=title_mft; header=sep_tree_mft_table_header)"
   ]
  },
  {
   "cell_type": "markdown",
   "id": "1c6fe5c9-bbbf-4e7b-865b-f04a967a9997",
   "metadata": {},
   "source": [
    "### Financial analysis\n",
    "We used the NPV equation for financial analysis. In order to find the break-even price we need to sell at for a set number of years, we had to set NPV equal to 0. After doing so, we calculated the cash flows after running it for 5 and 10 years. From there, we found the total moles of mRNA produced in 5 and 10 years (252 business days). Then, we calculated the price per micromole of mRNA by dividing the cash flow by the total moles produced. In terms of alternative options, we could have considered putting the chips in parallel, which may have a better yield and a lower price for mRNA."
   ]
  },
  {
   "cell_type": "markdown",
   "id": "e4224bf2-f9c7-48a0-b195-0e3352576875",
   "metadata": {},
   "source": [
    "## Summary and conclusions\n",
    "Most of the process and value determination came through trial and error. By adjusting certain variables one at a time, we were able to learn about the system and how everything was connected. We began by adjusting the volumetric flow rates until we realized that our number of chips was the limiting factor. Naturally, we scaled this up until we hit our target flow rate. We made sure we minimized input costs by then reducing the volumetric flow rates until it was as low as possible. In terms of the MSU levels, we knew that only the 90% and 95% efficiencies were going to be cost efficient, so we found the lowest number of levels needed for both to reach a purity of 99% and compared the prices. The 90% at 9 levels was cheaper, so we stuck with that. Ultimately, our system produces 0.101379 micromoles of mRNA per minute with 0.9945% purity. Taking into account the price, if the investment lasted 10 years, the price for a micromole of mRNA would only be around $150, which is very reasonable for something like a Covid Vaccine. Nonetheless, there are ways to continue to optimize the system and to increase the potential. Some recommendations would be to try to put the chips in parallel as well as revising the design of the mRNA expression process. Also, perhaps we could use an alternative to Purexpress that may be cheaper and just as reliable. "
   ]
  },
  {
   "cell_type": "markdown",
   "id": "0ce74f58-3061-4901-b988-0beb2980a20c",
   "metadata": {},
   "source": [
    "## References and Additional Resources\n",
    "* None"
   ]
  },
  {
   "cell_type": "markdown",
   "id": "81b0dddf-8a66-4b8a-9787-a3b269ba5175",
   "metadata": {},
   "source": [
    "# Video\n",
    "* https://youtu.be/rOzKiTJNkZk"
   ]
  },
  {
   "cell_type": "code",
   "execution_count": null,
   "id": "4ba00cd6-20d4-44b5-94a4-1848d70fcb17",
   "metadata": {},
   "outputs": [],
   "source": []
  }
 ],
 "metadata": {
  "kernelspec": {
   "display_name": "Julia 1.8.0",
   "language": "julia",
   "name": "julia-1.8"
  },
  "language_info": {
   "file_extension": ".jl",
   "mimetype": "application/julia",
   "name": "julia",
   "version": "1.8.0"
  }
 },
 "nbformat": 4,
 "nbformat_minor": 5
}
