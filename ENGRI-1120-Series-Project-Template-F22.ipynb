{
 "cells": [
  {
   "cell_type": "markdown",
   "id": "23e6742b-9c1b-473a-af2e-40ba90ff883f",
   "metadata": {},
   "source": [
    "# ENGRI 1120: Series Cell-free Production and Recovery of the mRNA BNT-162b2 Vaccine"
   ]
  },
  {
   "cell_type": "markdown",
   "id": "dbfbf87e-4766-4f57-884f-4f57c390cd3e",
   "metadata": {},
   "source": [
    "#### Your team name, your names and netids go here"
   ]
  },
  {
   "cell_type": "markdown",
   "id": "057a795d-822e-4bef-a871-840fa2a087c8",
   "metadata": {},
   "source": [
    "<img src=\"figs/Fig-Series-System.png\" style=\"width:50%\">"
   ]
  },
  {
   "cell_type": "markdown",
   "id": "e2d1b90e-e590-4489-a136-16c74f81ccc5",
   "metadata": {},
   "source": [
    "## Introduction\n",
    "The project introduction goes here. Typically 2-3 paragraphs.\n",
    "\n",
    "__Suggestions__:\n",
    "* Paragraph 1: Describe the motivation and background information on the product and the vaccine \n",
    "* Paragraph 2/3: Summary of your project. Describe the number of units (don't forget the heat exchangers), details about the units’ operation, and your project’s financials. \n",
    "\n",
    "You can replace the figure above with your system."
   ]
  },
  {
   "cell_type": "markdown",
   "id": "76c3d9a2-9965-4c36-90bd-392230585eca",
   "metadata": {
    "tags": []
   },
   "source": [
    "## Materials and Methods"
   ]
  },
  {
   "cell_type": "markdown",
   "id": "c992adca-0680-42cc-89d5-74b8d9c659b6",
   "metadata": {
    "tags": []
   },
   "source": [
    "### Project Setup"
   ]
  },
  {
   "cell_type": "code",
   "execution_count": 1,
   "id": "9087f9c8-fc35-4c16-9e4d-bd1ac8f71a2f",
   "metadata": {},
   "outputs": [
    {
     "name": "stderr",
     "output_type": "stream",
     "text": [
      "\u001b[32m\u001b[1m  Activating\u001b[22m\u001b[39m project at `C:\\Users\\James Chen\\Documents\\ENGRI 1120\\ENGRI-1120-IntroToChemE-Example-Notebooks\\project`\n",
      "\u001b[32m\u001b[1m  No Changes\u001b[22m\u001b[39m to `C:\\Users\\James Chen\\Documents\\ENGRI 1120\\ENGRI-1120-IntroToChemE-Example-Notebooks\\project\\Project.toml`\n",
      "\u001b[32m\u001b[1m  No Changes\u001b[22m\u001b[39m to `C:\\Users\\James Chen\\Documents\\ENGRI 1120\\ENGRI-1120-IntroToChemE-Example-Notebooks\\project\\Manifest.toml`\n"
     ]
    }
   ],
   "source": [
    "import Pkg; Pkg.activate(\".\"); Pkg.resolve(); Pkg.instantiate();"
   ]
  },
  {
   "cell_type": "code",
   "execution_count": 2,
   "id": "8b6f5e95-6b27-4294-82a1-0d36c8043946",
   "metadata": {},
   "outputs": [],
   "source": [
    "# load reqd packages and set paths -\n",
    "using JLD2\n",
    "using FileIO\n",
    "using PrettyTables\n",
    "using DataFrames\n",
    "using GLPK\n",
    "\n",
    "# setup paths -\n",
    "const _ROOT = pwd();\n",
    "const _PATH_TO_DATA = joinpath(_ROOT, \"data\");"
   ]
  },
  {
   "cell_type": "markdown",
   "id": "d92ba20b-7096-4cb5-9dcf-4375a8abc3b5",
   "metadata": {},
   "source": [
    "#### Load the project code library\n",
    "The call to the `include` function loads the `ENGRI-1120-Project-CodeLib.jl` library into the notebook; the library contains functions we can use during the project. In particular, it includes the function:\n",
    "\n",
    "* The `compute_optimal_extent(stoichiometric_matrix::Array{Float64,2}, default_bounds_array::Array{Float64,2},\n",
    "    species_bounds_array::Array{Float64,2}, objective_coefficient_array::Array{Float64,1}; min_flag::Bool = true) -> Tuple` function calls the [GLPK](https://www.gnu.org/software/glpk/) linear program solver. The `results` tuple contains several things, but the important ones are `calculated_flux_array`, `objective_value`, and the status/exit flags `status_flag` and `exit_flag` (which let us know if the solver successfully found a solution).\n",
    "* The `build(model::Type{MSULatticeModel}; ṅₒ::Float64, L::Int64, u::Float64, d::Float64) -> MSULatticeModel` function builds a [Binary tree](https://en.wikipedia.org/wiki/Binary_tree) of Magical Separation Units (MSUs). Arguments: $ṅₒ$ denotes the species mole flow rate into the separation system, $L$ denotes the number of layers of the tree, $u$ denotes the `up` factor (split for the `up` path), and $d$ denotes the `down` factor (the split for the `down` path). This function returns the `MSULatticeModel` model, which contains the column array `data` holding the species mole flow rate for each node in the tree. \n",
    "* The `build_nodes_dictionary(levels::Int64) -> Dict{Int64,Array{Int64,1}}` function constructs a dictionary of node indexes for each level of the tree; keys are the tree levels."
   ]
  },
  {
   "cell_type": "code",
   "execution_count": 3,
   "id": "643bb3f5-8a44-4d10-8aaf-bac7c94ec962",
   "metadata": {},
   "outputs": [],
   "source": [
    "include(\"ENGRI-1120-Project-CodeLib.jl\");"
   ]
  },
  {
   "cell_type": "code",
   "execution_count": 4,
   "id": "a3090808-15ee-44ba-ac55-2097a7a9f9c5",
   "metadata": {},
   "outputs": [
    {
     "name": "stderr",
     "output_type": "stream",
     "text": [
      "┌ Warning: the following fields are present in type DataFrame saved in the file but not present in the type the workspace:\n",
      "│ \n",
      "│ metadata\n",
      "│ colmetadata\n",
      "│ allnotemetadata,\n",
      "│ \n",
      "│ Data in these fields will not be accessible\n",
      "└ @ JLD2 C:\\Users\\James Chen\\.julia\\packages\\JLD2\\k9Gt0\\src\\data\\reconstructing_datatypes.jl:196\n"
     ]
    },
    {
     "data": {
      "text/plain": [
       "Dict{String, Any} with 7 entries:\n",
       "  \"stochiometric_matrix\" => [-1.0 0.0 … 0.0 -1.0; -1.0 0.0 … -1.0 0.0; … ; 1.0 …\n",
       "  \"list_of_reactions\"    => [\"TX_BNT_162b2_binding\", \"TX_BNT_162b2_open\", \"BNT_…\n",
       "  \"reaction_table\"       => \u001b[1m6×7 DataFrame\u001b[0m…\n",
       "  \"flux_bounds_array\"    => [-1000.0 1000.0; 0.0 1000.0; … ; 0.0 1000.0; 0.0 10…\n",
       "  \"mRNA_sequence\"        => ['C', 'U', 'C', 'U', 'U', 'A', 'U', 'U', 'U', 'G'  …\n",
       "  \"list_of_species\"      => [\"G_BNT_162b2\", \"T7RNAP\", \"M_atp_c\", \"M_utp_c\", \"M_…\n",
       "  \"gene_sequence\"        => ['G', 'A', 'G', 'A', 'A', 'T', 'A', 'A', 'A', 'C'  …"
      ]
     },
     "execution_count": 4,
     "metadata": {},
     "output_type": "execute_result"
    }
   ],
   "source": [
    "# load the model file -\n",
    "model = load(joinpath(_PATH_TO_DATA, \"ENGRI-1120-BNT162b2-Model.jld2\"))[\"model\"]"
   ]
  },
  {
   "cell_type": "code",
   "execution_count": 5,
   "id": "a5dcb1bf-32c2-449c-ae06-a55f44ec0994",
   "metadata": {},
   "outputs": [],
   "source": [
    "# get stuff from the model data structure -\n",
    "S = model[\"stochiometric_matrix\"]; # fix the spelling in the model file\n",
    "flux_bounds_array = model[\"flux_bounds_array\"];\n",
    "list_of_species = model[\"list_of_species\"];\n",
    "list_of_reactions = model[\"list_of_reactions\"];\n",
    "reaction_table = model[\"reaction_table\"];\n",
    "gene_sequence = model[\"gene_sequence\"];"
   ]
  },
  {
   "cell_type": "code",
   "execution_count": 6,
   "id": "55db9867-ef5f-415f-908a-4f8be8338f4b",
   "metadata": {},
   "outputs": [
    {
     "data": {
      "text/html": [
       "<div class=\"data-frame\"><p>6 rows × 7 columns (omitted printing of 5 columns)</p><table class=\"data-frame\"><thead><tr><th></th><th>id</th><th>forward</th></tr><tr><th></th><th title=\"String\">String</th><th title=\"String\">String</th></tr></thead><tbody><tr><th>1</th><td>TX_BNT_162b2_binding</td><td>G_BNT_162b2+T7RNAP</td></tr><tr><th>2</th><td>TX_BNT_162b2_open</td><td>G_BNT_162b2_T7RNAP_closed</td></tr><tr><th>3</th><td>BNT_162b2_transcription</td><td>G_BNT_162b2_T7RNAP_open+798*M_atp_c+1004*M_utp_c+1060*M_ctp_c+1312*M_gtp_c</td></tr><tr><th>4</th><td>mRNA_BNT_162b2_degradation</td><td>mRNA_BNT_162b2</td></tr><tr><th>5</th><td>RNAP_deactivation</td><td>T7RNAP</td></tr><tr><th>6</th><td>GENE_deactivation</td><td>G_BNT_162b2</td></tr></tbody></table></div>"
      ],
      "text/latex": [
       "\\begin{tabular}{r|ccc}\n",
       "\t& id & forward & \\\\\n",
       "\t\\hline\n",
       "\t& String & String & \\\\\n",
       "\t\\hline\n",
       "\t1 & TX\\_BNT\\_162b2\\_binding & G\\_BNT\\_162b2+T7RNAP & $\\dots$ \\\\\n",
       "\t2 & TX\\_BNT\\_162b2\\_open & G\\_BNT\\_162b2\\_T7RNAP\\_closed & $\\dots$ \\\\\n",
       "\t3 & BNT\\_162b2\\_transcription & G\\_BNT\\_162b2\\_T7RNAP\\_open+798*M\\_atp\\_c+1004*M\\_utp\\_c+1060*M\\_ctp\\_c+1312*M\\_gtp\\_c & $\\dots$ \\\\\n",
       "\t4 & mRNA\\_BNT\\_162b2\\_degradation & mRNA\\_BNT\\_162b2 & $\\dots$ \\\\\n",
       "\t5 & RNAP\\_deactivation & T7RNAP & $\\dots$ \\\\\n",
       "\t6 & GENE\\_deactivation & G\\_BNT\\_162b2 & $\\dots$ \\\\\n",
       "\\end{tabular}\n"
      ],
      "text/plain": [
       "\u001b[1m6×7 DataFrame\u001b[0m\n",
       "\u001b[1m Row \u001b[0m│\u001b[1m id                         \u001b[0m\u001b[1m forward                           \u001b[0m\u001b[1m reverse \u001b[0m ⋯\n",
       "\u001b[1m     \u001b[0m│\u001b[90m String                     \u001b[0m\u001b[90m String                            \u001b[0m\u001b[90m String  \u001b[0m ⋯\n",
       "─────┼──────────────────────────────────────────────────────────────────────────\n",
       "   1 │ TX_BNT_162b2_binding        G_BNT_162b2+T7RNAP                 G_BNT_16 ⋯\n",
       "   2 │ TX_BNT_162b2_open           G_BNT_162b2_T7RNAP_closed          G_BNT_16\n",
       "   3 │ BNT_162b2_transcription     G_BNT_162b2_T7RNAP_open+798*M_at…  mRNA_BNT\n",
       "   4 │ mRNA_BNT_162b2_degradation  mRNA_BNT_162b2                     798*M_am\n",
       "   5 │ RNAP_deactivation           T7RNAP                             T7RNAP_i ⋯\n",
       "   6 │ GENE_deactivation           G_BNT_162b2                        G_BNT_16\n",
       "\u001b[36m                                                               5 columns omitted\u001b[0m"
      ]
     },
     "execution_count": 6,
     "metadata": {},
     "output_type": "execute_result"
    }
   ],
   "source": [
    "reaction_table"
   ]
  },
  {
   "cell_type": "code",
   "execution_count": 7,
   "id": "117417d4-2690-4a3a-8be5-5404e313fc56",
   "metadata": {},
   "outputs": [],
   "source": [
    "# How many species and reactions?\n",
    "(ℳ, ℛ) = size(S);"
   ]
  },
  {
   "cell_type": "code",
   "execution_count": 8,
   "id": "8208533f-04f4-4039-8a7b-44be76fce2d0",
   "metadata": {
    "tags": []
   },
   "outputs": [
    {
     "name": "stdout",
     "output_type": "stream",
     "text": [
      "┌───────┬───────────────────────────┐\n",
      "│\u001b[1m Index \u001b[0m│\u001b[1m                   Species \u001b[0m│\n",
      "├───────┼───────────────────────────┤\n",
      "│     1 │               G_BNT_162b2 │\n",
      "│     2 │                    T7RNAP │\n",
      "│     3 │                   M_atp_c │\n",
      "│     4 │                   M_utp_c │\n",
      "│     5 │                   M_ctp_c │\n",
      "│     6 │                   M_gtp_c │\n",
      "│     7 │            mRNA_BNT_162b2 │\n",
      "│     8 │                   M_ppi_c │\n",
      "│     9 │                   M_amp_c │\n",
      "│    10 │                   M_ump_c │\n",
      "│    11 │                   M_cmp_c │\n",
      "│    12 │                   M_gmp_c │\n",
      "│    13 │           T7RNAP_inactive │\n",
      "│    14 │      G_BNT_162b2_inactive │\n",
      "│    15 │ G_BNT_162b2_T7RNAP_closed │\n",
      "│    16 │   G_BNT_162b2_T7RNAP_open │\n",
      "└───────┴───────────────────────────┘\n"
     ]
    }
   ],
   "source": [
    "# initialize -\n",
    "species_index_table_data = Array{Any,2}(undef, ℳ, 2);\n",
    "\n",
    "# build table -\n",
    "for i ∈ 1:ℳ\n",
    "    species_index_table_data[i,1] = i;\n",
    "    species_index_table_data[i,2] = list_of_species[i];\n",
    "end\n",
    "\n",
    "# setup header -\n",
    "species_index_header_table = ([\"Index\", \"Species\"]);\n",
    "\n",
    "# build table -\n",
    "pretty_table(species_index_table_data; header=species_index_header_table);"
   ]
  },
  {
   "cell_type": "markdown",
   "id": "8f4b9bca-9d21-4f12-88fc-9eec06661610",
   "metadata": {
    "tags": []
   },
   "source": [
    "#### Setup the constants, feed rates and compositions"
   ]
  },
  {
   "cell_type": "code",
   "execution_count": 97,
   "id": "edb099ea-ee49-4e00-ad7c-9a9b2458a706",
   "metadata": {},
   "outputs": [],
   "source": [
    "# how many chips in series?\n",
    "number_of_chips = 10;\n",
    "\n",
    "# what fraction of the mRNA degrades?\n",
    "δ = 0.10;\n",
    "\n",
    "# MSU split ratio -\n",
    "θ = 0.90;\n",
    "\n",
    "# Setup constants for transcription -\n",
    "L = length(gene_sequence);\n",
    "K = 0.116; # saturation constant units: μmol/L; Source: ACS Synth. Biol. 2018, 7, 8, 1844–1857 https://doi.org/10.1021/acssynbio.7b00465\n",
    "v̇ₜ = (90.0)*(60); # units: nt/s; Source: BIND: 111871\n",
    "u = 0.95; # u-factor; Source: ACS Synth. Biol. 2018, 7, 8, 1844–1857 https://doi.org/10.1021/acssynbio.7b00465\n",
    "\n",
    "# volume -\n",
    "V = 100.0*(1/1e6); # liquid reaction volume on each chip units: L\n",
    "\n",
    "# Stock solution: PURExpress -> fed into chips by pump 2 (stream 2)\n",
    "# PURExpress flows into the chip in stream 2\n",
    "T7RNAP = 100.0;          # concentration in PURExpress units: μmol/L\n",
    "M_atp_c = 100*(1e6/1e3); # concentration in PURExpress units: μmol/L\n",
    "M_utp_c = 100*(1e6/1e3); # concentration in PURExpress units: μmol/L\n",
    "M_ctp_c = 100*(1e6/1e3); # concentration in PURExpress units: μmol/L\n",
    "M_gtp_c = 100*(1e6/1e3); # concentration in PURExpress units: μmol/L\n",
    "\n",
    "# Stock solution: DNA -> feed into splitter by pump 1 and then into chip (always stream 1)\n",
    "G_BNT_162b2 = 100.0;     # gene concentration in stock solution units: μmol/L\n",
    "\n",
    "# Volumetric flow rates from the pump *into* the splitter unit or chip - our base case will 1 ml/min; thus, let's\n",
    "# scale by the number of chips\n",
    "Ḟ₁ = number_of_chips*1000.0*(1/1e6); # volumetric flow rate of syringe pump 1 units: L/min\n",
    "Ḟ₂ = 200*number_of_chips*1000.0*(1/1e6); # volumetric flow rate of syringe pump 2 units: L/min\n",
    "\n",
    "# stuff for the tables -\n",
    "current_table_counter = 0; # do not change me"
   ]
  },
  {
   "cell_type": "markdown",
   "id": "d6eba82f-57dd-47ca-a04e-42ca3e2f5dff",
   "metadata": {
    "tags": []
   },
   "source": [
    "#### Specify the inputs streams"
   ]
  },
  {
   "cell_type": "markdown",
   "id": "779f9f8b-1a29-4fa6-8d65-6f0913563ced",
   "metadata": {},
   "source": [
    "##### a) Specify the composition of feed stream 1\n",
    "By default, this stream contains only the gene encoding the mRNA BNT-162b2 product. The mainstream is split into sub-streams that are fed into each chip."
   ]
  },
  {
   "cell_type": "code",
   "execution_count": 33,
   "id": "3f5f3c3d-f73f-4449-87a2-1c0b365a5539",
   "metadata": {},
   "outputs": [],
   "source": [
    "# setup feed compostions for feed stream 1 \n",
    "ṅ₁ = zeros(ℳ); # default is zero, correct specific values -\n",
    "ṅ₁[1] = G_BNT_162b2*Ḟ₁*(1/number_of_chips); # units: μmol/min"
   ]
  },
  {
   "cell_type": "markdown",
   "id": "bf0ded76-4123-4232-9324-6a3528923c74",
   "metadata": {},
   "source": [
    "##### b) Specify the composition of feed stream 2\n",
    "By default, feed stream 2 contains the [PURExpress](https://www.neb.com/products/e6800-purexpress-invitro-protein-synthesis-kit#Product%20Information), which has everything we need to make our mRNA product of interest _expect_ the linear DNA. "
   ]
  },
  {
   "cell_type": "code",
   "execution_count": 34,
   "id": "816f2506-48bd-4fae-9396-2e6ea91e085e",
   "metadata": {},
   "outputs": [],
   "source": [
    "# setup feed compostions for feed stream 2: this feed goes into chip 1\n",
    "ṅ₂ = zeros(ℳ); # default is zero, then correct specific values -\n",
    "ṅ₂[2] = T7RNAP*Ḟ₂;  # units: μmol/min\n",
    "ṅ₂[3] = M_atp_c*Ḟ₂; # units: μmol/min\n",
    "ṅ₂[4] = M_utp_c*Ḟ₂; # units: μmol/min\n",
    "ṅ₂[5] = M_ctp_c*Ḟ₂; # units: μmol/min\n",
    "ṅ₂[6] = M_gtp_c*Ḟ₂; # units: μmol/min"
   ]
  },
  {
   "cell_type": "markdown",
   "id": "eb2540d8-a0b2-467b-94ed-20df1bbc0e57",
   "metadata": {
    "tags": []
   },
   "source": [
    "### Flux balance analysis setup\n",
    "* Describe the flux balance analysis method. \n",
    "* How did your group update the default species and flux bounds to model ths process?\n",
    "* What objective function did you choose?"
   ]
  },
  {
   "cell_type": "markdown",
   "id": "a7669082-24c8-4652-acab-31f08d82b207",
   "metadata": {},
   "source": [
    "#### Species bounds"
   ]
  },
  {
   "cell_type": "code",
   "execution_count": 35,
   "id": "954766fb-ec77-48c6-9ed1-3bf4361ef02a",
   "metadata": {},
   "outputs": [],
   "source": [
    "# species bounds array -\n",
    "species_bounds_array = [-(ṅ₁ .+ ṅ₂) 10000.0*ones(ℳ,1)];"
   ]
  },
  {
   "cell_type": "markdown",
   "id": "ed34a6d3-ff56-4651-81d5-5a57d581fa03",
   "metadata": {},
   "source": [
    "#### Reaction bounds\n",
    "In the series case, reaction bounds will change for every chip. Let's set a default upper bound and then update the other bounds below. If you are a brave soul, you can alter the per-chip bounds, but you don't need to do so."
   ]
  },
  {
   "cell_type": "code",
   "execution_count": 36,
   "id": "b8d99481-c895-48c7-901e-9857415df738",
   "metadata": {},
   "outputs": [],
   "source": [
    "# initialize -\n",
    "flux_bounds_array = zeros(ℛ,2);\n",
    "flux_bounds_array[:,2] .= 1000.0; # large default upper bound"
   ]
  },
  {
   "cell_type": "code",
   "execution_count": 37,
   "id": "818f4ec9-d726-4165-b2ec-0d813dbf2b87",
   "metadata": {
    "tags": []
   },
   "outputs": [
    {
     "name": "stdout",
     "output_type": "stream",
     "text": [
      "\u001b[1mTable 2: Reaction index-name mapping table.\u001b[0m\n",
      "┌───────┬────────────────────────────┬─────────────┬─────────────┐\n",
      "│\u001b[1m Index \u001b[0m│\u001b[1m                   Reaction \u001b[0m│\u001b[1m lower bound \u001b[0m│\u001b[1m upper bound \u001b[0m│\n",
      "│\u001b[90m       \u001b[0m│\u001b[90m                            \u001b[0m│\u001b[90m    μmol/min \u001b[0m│\u001b[90m    μmol/min \u001b[0m│\n",
      "├───────┼────────────────────────────┼─────────────┼─────────────┤\n",
      "│     1 │       TX_BNT_162b2_binding │         0.0 │      1000.0 │\n",
      "│     2 │          TX_BNT_162b2_open │         0.0 │      1000.0 │\n",
      "│     3 │    BNT_162b2_transcription │         0.0 │      1000.0 │\n",
      "│     4 │ mRNA_BNT_162b2_degradation │         0.0 │      1000.0 │\n",
      "│     5 │          RNAP_deactivation │         0.0 │      1000.0 │\n",
      "│     6 │          GENE_deactivation │         0.0 │      1000.0 │\n",
      "└───────┴────────────────────────────┴─────────────┴─────────────┘\n"
     ]
    }
   ],
   "source": [
    "# initialize -\n",
    "reaction_index_table_data = Array{Any,2}(undef, ℛ, 4);\n",
    "\n",
    "# build table -\n",
    "for i ∈ 1:ℛ\n",
    "    reaction_index_table_data[i,1] = i;\n",
    "    reaction_index_table_data[i,2] = list_of_reactions[i];\n",
    "    reaction_index_table_data[i,3] = flux_bounds_array[i,1];\n",
    "    reaction_index_table_data[i,4] = flux_bounds_array[i,2];\n",
    "end\n",
    "\n",
    "# setup title string -\n",
    "reaction_table_title = \"Table $(current_table_counter+=1): Reaction index-name mapping table.\"\n",
    "\n",
    "# setup header -\n",
    "reaction_index_header_table = ([\"Index\", \"Reaction\", \"lower bound\", \"upper bound\"], [\"\", \"\", \"μmol/min\", \"μmol/min\"]);\n",
    "\n",
    "# build table -\n",
    "pretty_table(reaction_index_table_data, title=reaction_table_title; header=reaction_index_header_table);"
   ]
  },
  {
   "cell_type": "markdown",
   "id": "f966f46c-43ff-4476-ba47-341f0ebc3012",
   "metadata": {},
   "source": [
    "#### Objective coefficient array\n",
    "* What is the objective you used?"
   ]
  },
  {
   "cell_type": "code",
   "execution_count": 38,
   "id": "0bb000a0-1e21-4a67-ba7b-04e67221fbb3",
   "metadata": {},
   "outputs": [],
   "source": [
    "# setup the objective coefficient array -\n",
    "obj_vector = zeros(ℛ);\n",
    "obj_vector[3] = -1; # why negative?"
   ]
  },
  {
   "cell_type": "markdown",
   "id": "4faa535b-6df1-4931-b033-0d4e0a165d90",
   "metadata": {
    "tags": []
   },
   "source": [
    "## Results and Discussion "
   ]
  },
  {
   "cell_type": "markdown",
   "id": "d7d1ae72-a727-496a-a2c7-c54fd9c0f1b2",
   "metadata": {},
   "source": [
    "### Compute the optimal extent of reaction and exit stream for first chip"
   ]
  },
  {
   "cell_type": "code",
   "execution_count": 98,
   "id": "ed183ad9-ac61-443f-9c48-26a28da15af9",
   "metadata": {
    "tags": []
   },
   "outputs": [],
   "source": [
    "# initialize some space to store tmp soln -\n",
    "tmp_sim_storage_space = Dict{Int64,Tuple{Array{Float64,1},Array{Float64,1}}}();\n",
    "\n",
    "# compute -\n",
    "ṅ₃ = zeros(ℳ);\n",
    "for chip_index ∈ 1:number_of_chips\n",
    "    \n",
    "    if (chip_index == 1)\n",
    "        ṅ_chip = ṅ₂\n",
    "    else\n",
    "        ṅ_chip = ṅ₃\n",
    "    end\n",
    "        \n",
    "    # update the bounds model -\n",
    "    F̂₁ = ((chip_index/number_of_chips)*Ḟ₁)/(Ḟ₂+(chip_index/number_of_chips)*Ḟ₁)\n",
    "    F̂₂ = Ḟ₂/(Ḟ₂+(chip_index/number_of_chips)*Ḟ₁);\n",
    "    \n",
    "    # Estimate the RNAP and GENE concentration -\n",
    "    Rₜ = T7RNAP*F̂₂;                          # effective RNAP concentratation on the chip for the bounds units: μmol/L\n",
    "    GENE = G_BNT_162b2*F̂₁ + G_BNT_162b2*F̂₂  # effective GENE concentratation on the chip for the bounds units: μmol/L\n",
    "    flux_bounds_array[3,:] .= Rₜ*(v̇ₜ/L)*u*(GENE/(K+GENE))*V; # equality constraint\n",
    "\n",
    "    # Setup bound for degradation (lower bound)\n",
    "    flux_bounds_array[4,1] = δ*flux_bounds_array[3,1];\n",
    "    \n",
    "    # compute the optimal flux, and then estimate the output on the chip\n",
    "    result = compute_optimal_extent(S, flux_bounds_array, species_bounds_array, obj_vector);\n",
    "    ϵ̇ = result.calculated_flux_array;\n",
    "    ṅ₃ = (ṅ₁ + ṅ_chip) + S*ϵ̇;   # compute the output from the chip -\n",
    "    \n",
    "    # now, the outlet from chip i-1 is the input to chip 1 (in stream 2), but stream 1 stays the same\n",
    "    species_bounds_array = [-(ṅ₁ .+ ṅ_chip) 10000.0*ones(ℳ,1)];\n",
    "    \n",
    "    # grab -\n",
    "    tmp_sim_storage_space[chip_index] = (ṅ₃,ϵ̇);\n",
    "end"
   ]
  },
  {
   "cell_type": "code",
   "execution_count": 99,
   "id": "aae47456-162f-462b-b7ec-3f264789c815",
   "metadata": {
    "tags": []
   },
   "outputs": [
    {
     "name": "stdout",
     "output_type": "stream",
     "text": [
      "\u001b[1mTable 1: Chip species mole flow rates table\u001b[0m\n",
      "┌───────────────────────────┬─────────┬──────────┬──────────┬──────────┬──────────┬──────────┬──────────┬──────────┬──────────┬──────────┬──────────┐\n",
      "│\u001b[1m                   Species \u001b[0m│\u001b[1m index i \u001b[0m│\u001b[1m   Chip 1 \u001b[0m│\u001b[1m   Chip 2 \u001b[0m│\u001b[1m   Chip 3 \u001b[0m│\u001b[1m   Chip 4 \u001b[0m│\u001b[1m   Chip 5 \u001b[0m│\u001b[1m   Chip 6 \u001b[0m│\u001b[1m   Chip 7 \u001b[0m│\u001b[1m   Chip 8 \u001b[0m│\u001b[1m   Chip 9 \u001b[0m│\u001b[1m  Chip 10 \u001b[0m│\n",
      "│\u001b[90m                           \u001b[0m│\u001b[90m         \u001b[0m│\u001b[90m μmol/min \u001b[0m│\u001b[90m μmol/min \u001b[0m│\u001b[90m μmol/min \u001b[0m│\u001b[90m μmol/min \u001b[0m│\u001b[90m μmol/min \u001b[0m│\u001b[90m μmol/min \u001b[0m│\u001b[90m μmol/min \u001b[0m│\u001b[90m μmol/min \u001b[0m│\u001b[90m μmol/min \u001b[0m│\u001b[90m μmol/min \u001b[0m│\n",
      "├───────────────────────────┼─────────┼──────────┼──────────┼──────────┼──────────┼──────────┼──────────┼──────────┼──────────┼──────────┼──────────┤\n",
      "│               G_BNT_162b2 │       1 │    0.001 │    0.002 │    0.003 │    0.004 │    0.005 │    0.006 │    0.007 │    0.008 │    0.009 │     0.01 │\n",
      "│                    T7RNAP │       2 │      2.0 │      2.0 │      2.0 │      2.0 │      2.0 │      2.0 │      2.0 │      2.0 │      2.0 │      2.0 │\n",
      "│                   M_atp_c │       3 │  1990.21 │  1980.43 │  1970.65 │  1960.87 │   1951.1 │  1941.34 │  1931.58 │  1921.82 │  1912.07 │  1902.33 │\n",
      "│                   M_utp_c │       4 │  1987.68 │  1975.37 │  1963.07 │  1950.77 │  1938.48 │  1926.19 │  1913.92 │  1901.64 │  1889.38 │  1877.12 │\n",
      "│                   M_ctp_c │       5 │   1987.0 │   1974.0 │  1961.01 │  1948.03 │  1935.05 │  1922.08 │  1909.12 │  1896.16 │  1883.21 │  1870.26 │\n",
      "│                   M_gtp_c │       6 │  1983.91 │  1967.82 │  1951.74 │  1935.67 │  1919.61 │  1903.55 │  1887.51 │  1871.47 │  1855.44 │  1839.42 │\n",
      "│            mRNA_BNT_162b2 │       7 │    0.011 │    0.022 │    0.033 │    0.044 │    0.055 │    0.066 │    0.077 │    0.088 │    0.099 │     0.11 │\n",
      "│                   M_ppi_c │       8 │   51.203 │   102.38 │  153.531 │  204.657 │  255.758 │  306.833 │  357.883 │  408.907 │  459.906 │  510.879 │\n",
      "│                   M_amp_c │       9 │    0.979 │    1.957 │    2.935 │    3.913 │     4.89 │    5.866 │    6.842 │    7.818 │    8.793 │    9.767 │\n",
      "│                   M_ump_c │      10 │    1.232 │    2.463 │    3.693 │    4.923 │    6.152 │     7.38 │    8.608 │    9.836 │   11.062 │   12.289 │\n",
      "│                   M_cmp_c │      11 │      1.3 │      2.6 │    3.899 │    5.197 │    6.495 │    7.792 │    9.089 │   10.384 │   11.679 │   12.974 │\n",
      "│                   M_gmp_c │      12 │    1.609 │    3.218 │    4.826 │    6.433 │    8.039 │    9.645 │   11.249 │   12.853 │   14.456 │   16.058 │\n",
      "│           T7RNAP_inactive │      13 │      0.0 │      0.0 │      0.0 │      0.0 │      0.0 │      0.0 │      0.0 │      0.0 │      0.0 │      0.0 │\n",
      "│      G_BNT_162b2_inactive │      14 │      0.0 │      0.0 │      0.0 │      0.0 │      0.0 │      0.0 │      0.0 │      0.0 │      0.0 │      0.0 │\n",
      "│ G_BNT_162b2_T7RNAP_closed │      15 │      0.0 │      0.0 │      0.0 │      0.0 │      0.0 │      0.0 │      0.0 │      0.0 │      0.0 │      0.0 │\n",
      "│   G_BNT_162b2_T7RNAP_open │      16 │      0.0 │      0.0 │      0.0 │      0.0 │      0.0 │      0.0 │      0.0 │      0.0 │      0.0 │      0.0 │\n",
      "└───────────────────────────┴─────────┴──────────┴──────────┴──────────┴──────────┴──────────┴──────────┴──────────┴──────────┴──────────┴──────────┘\n"
     ]
    }
   ],
   "source": [
    "system_flow_table_data = Array{Any,2}(undef, ℳ, number_of_chips+2);\n",
    "\n",
    "# populate the table -\n",
    "for i ∈ 1:ℳ\n",
    "    system_flow_table_data[i,1] = list_of_species[i];\n",
    "    system_flow_table_data[i,2] = i;\n",
    "    \n",
    "    for chip_index ∈ 1:number_of_chips\n",
    "        ṅ₃ = tmp_sim_storage_space[chip_index][1];\n",
    "        system_flow_table_data[i,chip_index+2] = round(ṅ₃[i], digits=3);\n",
    "    end\n",
    "end\n",
    "\n",
    "# build header -\n",
    "# names \n",
    "flow_table_name_row = Array{String,1}()\n",
    "push!(flow_table_name_row, \"Species\");\n",
    "push!(flow_table_name_row, \"index i\")\n",
    "for chip_index ∈ 1:number_of_chips\n",
    "    push!(flow_table_name_row, \"Chip $(chip_index)\")\n",
    "end\n",
    "\n",
    "# units\n",
    "flow_table_units_row = Array{String,1}()\n",
    "push!(flow_table_units_row, \"\");\n",
    "push!(flow_table_units_row, \"\")\n",
    "for chip_index ∈ 1:number_of_chips\n",
    "    push!(flow_table_units_row, \"μmol/min\")\n",
    "end\n",
    "\n",
    "\n",
    "# title -\n",
    "flow_table_title = \"Table $(current_table_counter+=1): Chip species mole flow rates table\"\n",
    "\n",
    "# header -\n",
    "flux_table_header = (flow_table_name_row, flow_table_units_row)\n",
    "\n",
    "# show -\n",
    "pretty_table(system_flow_table_data, title=flow_table_title; header=flux_table_header)"
   ]
  },
  {
   "cell_type": "code",
   "execution_count": 18,
   "id": "a2addf2a-2032-4526-9608-b5259b6d7646",
   "metadata": {},
   "outputs": [
    {
     "data": {
      "text/plain": [
       "16×4 Matrix{Any}:\n",
       " \"G_BNT_162b2\"                 1    0.001    0.002\n",
       " \"T7RNAP\"                      2    0.2      0.2\n",
       " \"M_atp_c\"                     3  194.143  189.749\n",
       " \"M_utp_c\"                     4  192.63   187.103\n",
       " \"M_ctp_c\"                     5  192.219  186.384\n",
       " \"M_gtp_c\"                     6  190.37   183.147\n",
       " \"mRNA_BNT_162b2\"              7    0.007    0.012\n",
       " \"M_ppi_c\"                     8   30.638   53.616\n",
       " \"M_amp_c\"                     9    0.586    1.025\n",
       " \"M_ump_c\"                    10    0.737    1.29\n",
       " \"M_cmp_c\"                    11    0.778    1.362\n",
       " \"M_gmp_c\"                    12    0.963    1.685\n",
       " \"T7RNAP_inactive\"            13    0.0      0.0\n",
       " \"G_BNT_162b2_inactive\"       14    0.0      0.0\n",
       " \"G_BNT_162b2_T7RNAP_closed\"  15    0.0      0.0\n",
       " \"G_BNT_162b2_T7RNAP_open\"    16    0.0      0.0"
      ]
     },
     "execution_count": 18,
     "metadata": {},
     "output_type": "execute_result"
    }
   ],
   "source": [
    "# this will print the last few chips (in case the table formatting gets nutty)\n",
    "system_flow_table_data"
   ]
  },
  {
   "cell_type": "markdown",
   "id": "e87e7984-92b8-426d-a0b0-56126f75bc1c",
   "metadata": {},
   "source": [
    "### Design a downstream seperation using Magical Seperator Units (MSU)"
   ]
  },
  {
   "cell_type": "code",
   "execution_count": 100,
   "id": "182cd067-ea09-464b-8aed-2f560622864a",
   "metadata": {},
   "outputs": [],
   "source": [
    "# default -\n",
    "ṅ₃ = tmp_sim_storage_space[number_of_chips][1]\n",
    "\n",
    "# build a downstream seperation process with this number of levels:\n",
    "number_of_levels = 2; # includes zero"
   ]
  },
  {
   "cell_type": "code",
   "execution_count": 101,
   "id": "f5456b44-0f35-4d9f-b0df-85afc56ecc74",
   "metadata": {
    "tags": []
   },
   "outputs": [
    {
     "name": "stdout",
     "output_type": "stream",
     "text": [
      "\u001b[1mTable 2: Magical Seperator Unit (MSU) flow table; N0 denotes the feed while N⋆ denotes the leaves of the tree.\u001b[0m\n",
      "┌───────────────────────────┬─────────┬──────────┬───────────┬───────────┐\n",
      "│\u001b[1m                   Species \u001b[0m│\u001b[1m index i \u001b[0m│\u001b[1m       N0 \u001b[0m│\u001b[1m        N2 \u001b[0m│\u001b[1m        N3 \u001b[0m│\n",
      "│\u001b[90m                           \u001b[0m│\u001b[90m         \u001b[0m│\u001b[90m μmol/min \u001b[0m│\u001b[90m  μmol/min \u001b[0m│\u001b[90m  μmol/min \u001b[0m│\n",
      "├───────────────────────────┼─────────┼──────────┼───────────┼───────────┤\n",
      "│               G_BNT_162b2 │       1 │     0.01 │     0.001 │     0.009 │\n",
      "│                    T7RNAP │       2 │      2.0 │       0.2 │       1.8 │\n",
      "│                   M_atp_c │       3 │  1902.33 │   190.233 │    1712.1 │\n",
      "│                   M_utp_c │       4 │  1877.11 │   187.711 │    1689.4 │\n",
      "│                   M_ctp_c │       5 │  1870.26 │   187.026 │   1683.23 │\n",
      "│                   M_gtp_c │       6 │  1839.42 │   183.942 │   1655.48 │\n",
      "│            mRNA_BNT_162b2 │       7 │ 0.110156 │ 0.0991404 │ 0.0110156 │\n",
      "│                   M_ppi_c │       8 │  510.879 │   51.0879 │   459.791 │\n",
      "│                   M_amp_c │       9 │  9.76716 │  0.976716 │   8.79045 │\n",
      "│                   M_ump_c │      10 │  12.2885 │   1.22885 │   11.0597 │\n",
      "│                   M_cmp_c │      11 │  12.9739 │   1.29739 │   11.6765 │\n",
      "│                   M_gmp_c │      12 │  16.0583 │   1.60583 │   14.4525 │\n",
      "│           T7RNAP_inactive │      13 │      0.0 │       0.0 │       0.0 │\n",
      "│      G_BNT_162b2_inactive │      14 │      0.0 │       0.0 │       0.0 │\n",
      "│ G_BNT_162b2_T7RNAP_closed │      15 │      0.0 │       0.0 │       0.0 │\n",
      "│   G_BNT_162b2_T7RNAP_open │      16 │      0.0 │       0.0 │       0.0 │\n",
      "└───────────────────────────┴─────────┴──────────┴───────────┴───────────┘\n"
     ]
    }
   ],
   "source": [
    "# initialize -\n",
    "tmp_storage_dict = Dict{Int64, MSULatticeModel}();\n",
    "\n",
    "# is_product_vector -\n",
    "is_product_vector = zeros(ℳ);\n",
    "is_product_vector[7] = 1;\n",
    "\n",
    "# compute the composition array -\n",
    "for i ∈ 1:ℳ\n",
    "\n",
    "    if (is_product_vector[i] == 1)\n",
    "        msu_lattice_model = build(MSULatticeModel; ṅₒ = ṅ₃[i], L = number_of_levels , u = θ, d = (1 - θ));\n",
    "    else\n",
    "        msu_lattice_model = build(MSULatticeModel; ṅₒ = ṅ₃[i], L = number_of_levels , u = (1 - θ), d = θ);\n",
    "    end\n",
    "    \n",
    "    # grab -\n",
    "    tmp_storage_dict[i] = msu_lattice_model;\n",
    "end\n",
    "\n",
    "# grab the leaves -\n",
    "nodes_dict = build_nodes_dictionary(number_of_levels);\n",
    "children_dict = build_children_dictionary(nodes_dict);\n",
    "tree_leaves = nodes_dict[number_of_levels-1];\n",
    "\n",
    "# build a composition array -\n",
    "number_of_nodes = length(tree_leaves);\n",
    "composition_array = Array{Float64,2}(undef, number_of_nodes, ℳ);\n",
    "for i ∈ 1:ℳ\n",
    "    data = tmp_storage_dict[i].data;\n",
    "    for j ∈ 1:number_of_nodes\n",
    "        composition_array[j,i] = data[tree_leaves[j]]\n",
    "    end\n",
    "end\n",
    "\n",
    "# make a pretty table and show the leaves of the tree -\n",
    "\n",
    "# initialize -\n",
    "sep_tree_flow_table_data = Array{Any,2}(undef, ℳ, length(tree_leaves) + 3)\n",
    "for i ∈ 1:ℳ\n",
    "    sep_tree_flow_table_data[i,1] = list_of_species[i];\n",
    "    sep_tree_flow_table_data[i,2] = i;\n",
    "    sep_tree_flow_table_data[i,3] = ṅ₃[i] # put node 0 in table -\n",
    "        \n",
    "    for j ∈ 1:length(tree_leaves)\n",
    "        sep_tree_flow_table_data[i,3+j] = composition_array[j,i]\n",
    "    end\n",
    "end\n",
    "\n",
    "# labels row -\n",
    "label_row = Array{String,1}();\n",
    "push!(label_row,\"Species\");\n",
    "push!(label_row,\"index i\")\n",
    "push!(label_row,\"N0\")\n",
    "for j ∈ 1:length(tree_leaves)\n",
    "    push!(label_row, \"N$(tree_leaves[j])\");\n",
    "end\n",
    "\n",
    "# units row -\n",
    "units_row = Array{String,1}();\n",
    "push!(units_row, \"\");\n",
    "push!(units_row, \"\");\n",
    "for j ∈ 1:length(tree_leaves)+1\n",
    "    push!(units_row, \"μmol/min\");\n",
    "end\n",
    "\n",
    "# header -\n",
    "sep_tree_flow_table_header = (label_row, units_row);\n",
    "\n",
    "# set title -\n",
    "title = \"Table $(current_table_counter+=1): Magical Seperator Unit (MSU) flow table; N0 denotes the feed while N⋆ denotes the leaves of the tree.\"\n",
    "\n",
    "# show -\n",
    "pretty_table(sep_tree_flow_table_data, title=title; header=sep_tree_flow_table_header)"
   ]
  },
  {
   "cell_type": "code",
   "execution_count": 22,
   "id": "3a8b3f45-6f00-4201-9418-407810432f4c",
   "metadata": {
    "tags": []
   },
   "outputs": [
    {
     "name": "stdout",
     "output_type": "stream",
     "text": [
      "\u001b[1mTable 5: Magical Seperator Unit (MSU) composition table.\u001b[0m\n",
      "┌───────────────────────────┬─────────┬───────────┬───────────┬───────────┐\n",
      "│\u001b[1m                   Species \u001b[0m│\u001b[1m index i \u001b[0m│\u001b[1m        N0 \u001b[0m│\u001b[1m        N2 \u001b[0m│\u001b[1m        N3 \u001b[0m│\n",
      "│\u001b[90m                           \u001b[0m│\u001b[90m         \u001b[0m│\u001b[90m mole frac \u001b[0m│\u001b[90m mole frac \u001b[0m│\u001b[90m mole frac \u001b[0m│\n",
      "├───────────────────────────┼─────────┼───────────┼───────────┼───────────┤\n",
      "│               G_BNT_162b2 │       1 │       0.0 │       0.0 │       0.0 │\n",
      "│                    T7RNAP │       2 │    0.0002 │    0.0002 │    0.0002 │\n",
      "│                   M_atp_c │       3 │    0.2355 │    0.2355 │    0.2355 │\n",
      "│                   M_utp_c │       4 │    0.2323 │    0.2322 │    0.2323 │\n",
      "│                   M_ctp_c │       5 │    0.2314 │    0.2313 │    0.2314 │\n",
      "│                   M_gtp_c │       6 │    0.2273 │    0.2273 │    0.2274 │\n",
      "│            mRNA_BNT_162b2 │       7 │       0.0 │    0.0001 │       0.0 │\n",
      "│                   M_ppi_c │       8 │    0.0666 │    0.0665 │    0.0666 │\n",
      "│                   M_amp_c │       9 │    0.0013 │    0.0013 │    0.0013 │\n",
      "│                   M_ump_c │      10 │    0.0016 │    0.0016 │    0.0016 │\n",
      "│                   M_cmp_c │      11 │    0.0017 │    0.0017 │    0.0017 │\n",
      "│                   M_gmp_c │      12 │    0.0021 │    0.0021 │    0.0021 │\n",
      "│           T7RNAP_inactive │      13 │       0.0 │       0.0 │       0.0 │\n",
      "│      G_BNT_162b2_inactive │      14 │       0.0 │       0.0 │       0.0 │\n",
      "│ G_BNT_162b2_T7RNAP_closed │      15 │       0.0 │       0.0 │       0.0 │\n",
      "│   G_BNT_162b2_T7RNAP_open │      16 │       0.0 │       0.0 │       0.0 │\n",
      "└───────────────────────────┴─────────┴───────────┴───────────┴───────────┘\n"
     ]
    }
   ],
   "source": [
    "# build mol frac composition table -\n",
    "\n",
    "# construct mol frac array -\n",
    "mol_frac_array = Array{Float64,2}(undef, ℳ, length(tree_leaves)+1);\n",
    "\n",
    "# node 0 -\n",
    "ṅ₃_total = sum(ṅ₃);\n",
    "for i ∈ 1:ℳ\n",
    "    mol_frac_array[i,1] = ṅ₃[i]*(1/ṅ₃_total);    \n",
    "end\n",
    "\n",
    "# get the sums along rows -\n",
    "ṅ_total = sum(composition_array,dims = 2);\n",
    "for node ∈ 1:length(tree_leaves)\n",
    "    for i ∈ 1:ℳ\n",
    "        mol_frac_array[i,node+1] = composition_array[node,i]*(1/ṅ_total[node]);\n",
    "    end\n",
    "end\n",
    "\n",
    "# initialize -\n",
    "sep_tree_mol_frac_table_data = Array{Any,2}(undef, ℳ, length(tree_leaves) + 3)\n",
    "for i ∈ 1:ℳ\n",
    "    sep_tree_mol_frac_table_data[i,1] = list_of_species[i];\n",
    "    sep_tree_mol_frac_table_data[i,2] = i;\n",
    "    sep_tree_mol_frac_table_data[i,3] = round(mol_frac_array[i,1], digits=4) # put node 0 in table -\n",
    "        \n",
    "    for j ∈ 1:length(tree_leaves)\n",
    "        sep_tree_mol_frac_table_data[i, 3+j] = round(mol_frac_array[i,j+1], digits=4)\n",
    "    end\n",
    "end\n",
    "\n",
    "# labels row -\n",
    "label_mft_row = Array{String,1}();\n",
    "push!(label_mft_row,\"Species\");\n",
    "push!(label_mft_row,\"index i\")\n",
    "push!(label_mft_row,\"N0\")\n",
    "for j ∈ 1:length(tree_leaves)\n",
    "    push!(label_mft_row, \"N$(tree_leaves[j])\");\n",
    "end\n",
    "\n",
    "# units row -\n",
    "units_mft_row = Array{String,1}();\n",
    "push!(units_mft_row, \"\");\n",
    "push!(units_mft_row, \"\");\n",
    "for j ∈ 1:length(tree_leaves)+1\n",
    "    push!(units_mft_row, \"mole frac\");\n",
    "end\n",
    "\n",
    "# header -\n",
    "sep_tree_mft_table_header = (label_mft_row, units_mft_row);\n",
    "\n",
    "# set title -\n",
    "title_mft = \"Table $(current_table_counter+=1): Magical Seperator Unit (MSU) composition table.\"\n",
    "\n",
    "# show -\n",
    "pretty_table(sep_tree_mol_frac_table_data, title=title_mft; header=sep_tree_mft_table_header)"
   ]
  },
  {
   "cell_type": "markdown",
   "id": "1c6fe5c9-bbbf-4e7b-865b-f04a967a9997",
   "metadata": {},
   "source": [
    "### Financial analysis\n",
    "\n",
    "* Compute the [Net Present Value](https://varnerlab.github.io/ENGRI-1120-IntroToChemE-Book/chapter-1-dir/money-balances.html#net-present-value-npv) of your design using the cost spreadsheet on canvas.\n",
    "* What price for the mRNA product do we need to set to have a NPV equal to zero?\n",
    "* How could you improve the financial performance/NPV of your design?"
   ]
  },
  {
   "cell_type": "markdown",
   "id": "e4224bf2-f9c7-48a0-b195-0e3352576875",
   "metadata": {},
   "source": [
    "## Summary and conclusions\n",
    "* Fill me in, see rubric."
   ]
  },
  {
   "cell_type": "markdown",
   "id": "0ce74f58-3061-4901-b988-0beb2980a20c",
   "metadata": {},
   "source": [
    "## References and Additional Resources\n",
    "* Put any references are additional citations here"
   ]
  }
 ],
 "metadata": {
  "kernelspec": {
   "display_name": "Julia 1.8.0",
   "language": "julia",
   "name": "julia-1.8"
  },
  "language_info": {
   "file_extension": ".jl",
   "mimetype": "application/julia",
   "name": "julia",
   "version": "1.8.0"
  }
 },
 "nbformat": 4,
 "nbformat_minor": 5
}
